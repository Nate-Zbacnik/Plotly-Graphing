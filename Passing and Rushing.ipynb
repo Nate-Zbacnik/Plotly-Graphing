{
 "cells": [
  {
   "cell_type": "markdown",
   "metadata": {},
   "source": [
    "Today we will plot rushing percentages in college football for a given conference. In particular, this notebook will look at the yearly trend in conferences for rushing on 1st & 10 when down by less than 9 points (ie within one score).\n",
    "\n",
    "First, we need to import all the stuff we'll use."
   ]
  },
  {
   "cell_type": "code",
   "execution_count": 212,
   "metadata": {},
   "outputs": [
    {
     "data": {
      "text/html": [
       "        <script type=\"text/javascript\">\n",
       "        window.PlotlyConfig = {MathJaxConfig: 'local'};\n",
       "        if (window.MathJax) {MathJax.Hub.Config({SVG: {font: \"STIX-Web\"}});}\n",
       "        if (typeof require !== 'undefined') {\n",
       "        require.undef(\"plotly\");\n",
       "        requirejs.config({\n",
       "            paths: {\n",
       "                'plotly': ['https://cdn.plot.ly/plotly-latest.min']\n",
       "            }\n",
       "        });\n",
       "        require(['plotly'], function(Plotly) {\n",
       "            window._Plotly = Plotly;\n",
       "        });\n",
       "        }\n",
       "        </script>\n",
       "        "
      ]
     },
     "metadata": {},
     "output_type": "display_data"
    }
   ],
   "source": [
    "import numpy as np\n",
    "import pandas as pd\n",
    "import plotly.express as px\n",
    "import plotly.graph_objects as go\n",
    "import cufflinks as cf\n",
    "import requests\n",
    "import warnings\n",
    "warnings.filterwarnings('ignore')\n",
    "cf.go_offline()"
   ]
  },
  {
   "cell_type": "markdown",
   "metadata": {},
   "source": [
    "Collegefootballdata.com has an excellent api for getting all the data we could ever want. Let's do that now. (This will take a minute. We're asking for a lot of data!)"
   ]
  },
  {
   "cell_type": "code",
   "execution_count": 240,
   "metadata": {},
   "outputs": [
    {
     "data": {
      "text/html": [
       "<div>\n",
       "<style scoped>\n",
       "    .dataframe tbody tr th:only-of-type {\n",
       "        vertical-align: middle;\n",
       "    }\n",
       "\n",
       "    .dataframe tbody tr th {\n",
       "        vertical-align: top;\n",
       "    }\n",
       "\n",
       "    .dataframe thead th {\n",
       "        text-align: right;\n",
       "    }\n",
       "</style>\n",
       "<table border=\"1\" class=\"dataframe\">\n",
       "  <thead>\n",
       "    <tr style=\"text-align: right;\">\n",
       "      <th></th>\n",
       "      <th>id</th>\n",
       "      <th>offense</th>\n",
       "      <th>offense_conference</th>\n",
       "      <th>defense</th>\n",
       "      <th>defense_conference</th>\n",
       "      <th>home</th>\n",
       "      <th>away</th>\n",
       "      <th>offense_score</th>\n",
       "      <th>defense_score</th>\n",
       "      <th>drive_id</th>\n",
       "      <th>...</th>\n",
       "      <th>yards_to_goal</th>\n",
       "      <th>down</th>\n",
       "      <th>distance</th>\n",
       "      <th>yards_gained</th>\n",
       "      <th>play_type</th>\n",
       "      <th>play_text</th>\n",
       "      <th>ppa</th>\n",
       "      <th>clock.minutes</th>\n",
       "      <th>clock.seconds</th>\n",
       "      <th>year</th>\n",
       "    </tr>\n",
       "  </thead>\n",
       "  <tbody>\n",
       "    <tr>\n",
       "      <th>0</th>\n",
       "      <td>302450084003</td>\n",
       "      <td>Indiana</td>\n",
       "      <td>Big Ten</td>\n",
       "      <td>Towson</td>\n",
       "      <td>None</td>\n",
       "      <td>Indiana</td>\n",
       "      <td>Towson</td>\n",
       "      <td>0</td>\n",
       "      <td>0</td>\n",
       "      <td>30245008401</td>\n",
       "      <td>...</td>\n",
       "      <td>59</td>\n",
       "      <td>2</td>\n",
       "      <td>6</td>\n",
       "      <td>-4</td>\n",
       "      <td>Pass Completion</td>\n",
       "      <td>Ben Chappell pass complete to Damarlo Belcher ...</td>\n",
       "      <td>-1.56348998679428142</td>\n",
       "      <td>14</td>\n",
       "      <td>0</td>\n",
       "      <td>2010</td>\n",
       "    </tr>\n",
       "    <tr>\n",
       "      <th>1</th>\n",
       "      <td>302450084005</td>\n",
       "      <td>Indiana</td>\n",
       "      <td>Big Ten</td>\n",
       "      <td>Towson</td>\n",
       "      <td>None</td>\n",
       "      <td>Indiana</td>\n",
       "      <td>Towson</td>\n",
       "      <td>0</td>\n",
       "      <td>0</td>\n",
       "      <td>30245008401</td>\n",
       "      <td>...</td>\n",
       "      <td>63</td>\n",
       "      <td>3</td>\n",
       "      <td>10</td>\n",
       "      <td>5</td>\n",
       "      <td>Pass Completion</td>\n",
       "      <td>Ben Chappell pass complete to Duwyce Wilson fo...</td>\n",
       "      <td>0.03122511355269619</td>\n",
       "      <td>13</td>\n",
       "      <td>50</td>\n",
       "      <td>2010</td>\n",
       "    </tr>\n",
       "    <tr>\n",
       "      <th>2</th>\n",
       "      <td>302450084006</td>\n",
       "      <td>Indiana</td>\n",
       "      <td>Big Ten</td>\n",
       "      <td>Towson</td>\n",
       "      <td>None</td>\n",
       "      <td>Indiana</td>\n",
       "      <td>Towson</td>\n",
       "      <td>0</td>\n",
       "      <td>0</td>\n",
       "      <td>30245008401</td>\n",
       "      <td>...</td>\n",
       "      <td>58</td>\n",
       "      <td>4</td>\n",
       "      <td>5</td>\n",
       "      <td>6</td>\n",
       "      <td>Punt</td>\n",
       "      <td>Chris Hagerup punt for 41 yards, returned by T...</td>\n",
       "      <td>None</td>\n",
       "      <td>12</td>\n",
       "      <td>54</td>\n",
       "      <td>2010</td>\n",
       "    </tr>\n",
       "    <tr>\n",
       "      <th>3</th>\n",
       "      <td>302450084002</td>\n",
       "      <td>Indiana</td>\n",
       "      <td>Big Ten</td>\n",
       "      <td>Towson</td>\n",
       "      <td>None</td>\n",
       "      <td>Indiana</td>\n",
       "      <td>Towson</td>\n",
       "      <td>0</td>\n",
       "      <td>0</td>\n",
       "      <td>30245008401</td>\n",
       "      <td>...</td>\n",
       "      <td>63</td>\n",
       "      <td>1</td>\n",
       "      <td>10</td>\n",
       "      <td>4</td>\n",
       "      <td>Pass Completion</td>\n",
       "      <td>Ben Chappell pass complete to Terrance Turner ...</td>\n",
       "      <td>-0.1644248613169578</td>\n",
       "      <td>14</td>\n",
       "      <td>30</td>\n",
       "      <td>2010</td>\n",
       "    </tr>\n",
       "    <tr>\n",
       "      <th>4</th>\n",
       "      <td>302450084019</td>\n",
       "      <td>Indiana</td>\n",
       "      <td>Big Ten</td>\n",
       "      <td>Towson</td>\n",
       "      <td>None</td>\n",
       "      <td>Indiana</td>\n",
       "      <td>Towson</td>\n",
       "      <td>0</td>\n",
       "      <td>0</td>\n",
       "      <td>30245008403</td>\n",
       "      <td>...</td>\n",
       "      <td>36</td>\n",
       "      <td>2</td>\n",
       "      <td>9</td>\n",
       "      <td>11</td>\n",
       "      <td>Pass Completion</td>\n",
       "      <td>Ben Chappell pass complete to Damarlo Belcher ...</td>\n",
       "      <td>0.9239597600034895</td>\n",
       "      <td>11</td>\n",
       "      <td>0</td>\n",
       "      <td>2010</td>\n",
       "    </tr>\n",
       "  </tbody>\n",
       "</table>\n",
       "<p>5 rows × 22 columns</p>\n",
       "</div>"
      ],
      "text/plain": [
       "             id  offense offense_conference defense defense_conference  \\\n",
       "0  302450084003  Indiana            Big Ten  Towson               None   \n",
       "1  302450084005  Indiana            Big Ten  Towson               None   \n",
       "2  302450084006  Indiana            Big Ten  Towson               None   \n",
       "3  302450084002  Indiana            Big Ten  Towson               None   \n",
       "4  302450084019  Indiana            Big Ten  Towson               None   \n",
       "\n",
       "      home    away  offense_score  defense_score     drive_id  ...  \\\n",
       "0  Indiana  Towson              0              0  30245008401  ...   \n",
       "1  Indiana  Towson              0              0  30245008401  ...   \n",
       "2  Indiana  Towson              0              0  30245008401  ...   \n",
       "3  Indiana  Towson              0              0  30245008401  ...   \n",
       "4  Indiana  Towson              0              0  30245008403  ...   \n",
       "\n",
       "   yards_to_goal  down  distance  yards_gained        play_type  \\\n",
       "0             59     2         6            -4  Pass Completion   \n",
       "1             63     3        10             5  Pass Completion   \n",
       "2             58     4         5             6             Punt   \n",
       "3             63     1        10             4  Pass Completion   \n",
       "4             36     2         9            11  Pass Completion   \n",
       "\n",
       "                                           play_text                   ppa  \\\n",
       "0  Ben Chappell pass complete to Damarlo Belcher ...  -1.56348998679428142   \n",
       "1  Ben Chappell pass complete to Duwyce Wilson fo...   0.03122511355269619   \n",
       "2  Chris Hagerup punt for 41 yards, returned by T...                  None   \n",
       "3  Ben Chappell pass complete to Terrance Turner ...   -0.1644248613169578   \n",
       "4  Ben Chappell pass complete to Damarlo Belcher ...    0.9239597600034895   \n",
       "\n",
       "  clock.minutes clock.seconds  year  \n",
       "0            14             0  2010  \n",
       "1            13            50  2010  \n",
       "2            12            54  2010  \n",
       "3            14            30  2010  \n",
       "4            11             0  2010  \n",
       "\n",
       "[5 rows x 22 columns]"
      ]
     },
     "execution_count": 240,
     "metadata": {},
     "output_type": "execute_result"
    }
   ],
   "source": [
    "data1 = pd.DataFrame()\n",
    "\n",
    "#Conference abbreviations: SEC, MAC, B12, PAC, MWC, B1G, CUSA, Ind, SBC, AAC, ACC\n",
    "\n",
    "conf = 'B1G'\n",
    "\n",
    "for year in range(2010,2011):\n",
    "    response1 = requests.get(\"https://api.collegefootballdata.com/plays?seasonType=both&year={0}&offenseConference={1}&defenseConference!=null\".format(year,conf))\n",
    "    df1 = pd.io.json.json_normalize(response1.json())\n",
    "    df1 = df1[(df1['offense_conference'].isnull()) | (df1['defense_conference'].isnull())] #no fcs games\n",
    "    df1['year']=year\n",
    "    #data1 = pd.concat([data,df1])\n",
    "\n",
    "\n",
    "df1.head()"
   ]
  },
  {
   "cell_type": "code",
   "execution_count": 234,
   "metadata": {},
   "outputs": [
    {
     "data": {
      "text/html": [
       "<div>\n",
       "<style scoped>\n",
       "    .dataframe tbody tr th:only-of-type {\n",
       "        vertical-align: middle;\n",
       "    }\n",
       "\n",
       "    .dataframe tbody tr th {\n",
       "        vertical-align: top;\n",
       "    }\n",
       "\n",
       "    .dataframe thead th {\n",
       "        text-align: right;\n",
       "    }\n",
       "</style>\n",
       "<table border=\"1\" class=\"dataframe\">\n",
       "  <thead>\n",
       "    <tr style=\"text-align: right;\">\n",
       "      <th></th>\n",
       "      <th>id</th>\n",
       "      <th>offense</th>\n",
       "      <th>offense_conference</th>\n",
       "      <th>defense</th>\n",
       "      <th>defense_conference</th>\n",
       "      <th>home</th>\n",
       "      <th>away</th>\n",
       "      <th>offense_score</th>\n",
       "      <th>defense_score</th>\n",
       "      <th>drive_id</th>\n",
       "      <th>...</th>\n",
       "      <th>yards_to_goal</th>\n",
       "      <th>down</th>\n",
       "      <th>distance</th>\n",
       "      <th>yards_gained</th>\n",
       "      <th>play_type</th>\n",
       "      <th>play_text</th>\n",
       "      <th>ppa</th>\n",
       "      <th>clock.minutes</th>\n",
       "      <th>clock.seconds</th>\n",
       "      <th>year</th>\n",
       "    </tr>\n",
       "  </thead>\n",
       "  <tbody>\n",
       "    <tr>\n",
       "      <th>83</th>\n",
       "      <td>302450194002</td>\n",
       "      <td>Ohio State</td>\n",
       "      <td>Big Ten</td>\n",
       "      <td>Marshall</td>\n",
       "      <td>Conference USA</td>\n",
       "      <td>Ohio State</td>\n",
       "      <td>Marshall</td>\n",
       "      <td>0</td>\n",
       "      <td>0</td>\n",
       "      <td>30245019402</td>\n",
       "      <td>...</td>\n",
       "      <td>22</td>\n",
       "      <td>1</td>\n",
       "      <td>10</td>\n",
       "      <td>11</td>\n",
       "      <td>Pass Completion</td>\n",
       "      <td>Terrelle Pryor pass complete to Jake Stoneburn...</td>\n",
       "      <td>0.125883353280535</td>\n",
       "      <td>14</td>\n",
       "      <td>50</td>\n",
       "      <td>2010</td>\n",
       "    </tr>\n",
       "    <tr>\n",
       "      <th>84</th>\n",
       "      <td>302450194006</td>\n",
       "      <td>Ohio State</td>\n",
       "      <td>Big Ten</td>\n",
       "      <td>Marshall</td>\n",
       "      <td>Conference USA</td>\n",
       "      <td>Ohio State</td>\n",
       "      <td>Marshall</td>\n",
       "      <td>7</td>\n",
       "      <td>0</td>\n",
       "      <td>30245019402</td>\n",
       "      <td>...</td>\n",
       "      <td>70</td>\n",
       "      <td>-1</td>\n",
       "      <td>-1</td>\n",
       "      <td>0</td>\n",
       "      <td>Kickoff</td>\n",
       "      <td>Drew Basil kickoff for 70 yards for a touchback.</td>\n",
       "      <td>None</td>\n",
       "      <td>13</td>\n",
       "      <td>42</td>\n",
       "      <td>2010</td>\n",
       "    </tr>\n",
       "    <tr>\n",
       "      <th>85</th>\n",
       "      <td>302450194003</td>\n",
       "      <td>Ohio State</td>\n",
       "      <td>Big Ten</td>\n",
       "      <td>Marshall</td>\n",
       "      <td>Conference USA</td>\n",
       "      <td>Ohio State</td>\n",
       "      <td>Marshall</td>\n",
       "      <td>0</td>\n",
       "      <td>0</td>\n",
       "      <td>30245019402</td>\n",
       "      <td>...</td>\n",
       "      <td>11</td>\n",
       "      <td>1</td>\n",
       "      <td>10</td>\n",
       "      <td>0</td>\n",
       "      <td>Pass Incompletion</td>\n",
       "      <td>Terrelle Pryor pass incomplete to Brandon Saine.</td>\n",
       "      <td>-0.291297448934314</td>\n",
       "      <td>14</td>\n",
       "      <td>22</td>\n",
       "      <td>2010</td>\n",
       "    </tr>\n",
       "    <tr>\n",
       "      <th>86</th>\n",
       "      <td>302450194004</td>\n",
       "      <td>Ohio State</td>\n",
       "      <td>Big Ten</td>\n",
       "      <td>Marshall</td>\n",
       "      <td>Conference USA</td>\n",
       "      <td>Ohio State</td>\n",
       "      <td>Marshall</td>\n",
       "      <td>0</td>\n",
       "      <td>0</td>\n",
       "      <td>30245019402</td>\n",
       "      <td>...</td>\n",
       "      <td>11</td>\n",
       "      <td>2</td>\n",
       "      <td>10</td>\n",
       "      <td>5</td>\n",
       "      <td>Rush</td>\n",
       "      <td>Brandon Saine rush for 5 yards to the Marsh 6.</td>\n",
       "      <td>0.037899501555332</td>\n",
       "      <td>14</td>\n",
       "      <td>5</td>\n",
       "      <td>2010</td>\n",
       "    </tr>\n",
       "    <tr>\n",
       "      <th>87</th>\n",
       "      <td>302450194005</td>\n",
       "      <td>Ohio State</td>\n",
       "      <td>Big Ten</td>\n",
       "      <td>Marshall</td>\n",
       "      <td>Conference USA</td>\n",
       "      <td>Ohio State</td>\n",
       "      <td>Marshall</td>\n",
       "      <td>7</td>\n",
       "      <td>0</td>\n",
       "      <td>30245019402</td>\n",
       "      <td>...</td>\n",
       "      <td>6</td>\n",
       "      <td>3</td>\n",
       "      <td>5</td>\n",
       "      <td>6</td>\n",
       "      <td>Pass Completion</td>\n",
       "      <td>Terrelle Pryor pass complete to DeVier Posey f...</td>\n",
       "      <td>None</td>\n",
       "      <td>13</td>\n",
       "      <td>42</td>\n",
       "      <td>2010</td>\n",
       "    </tr>\n",
       "  </tbody>\n",
       "</table>\n",
       "<p>5 rows × 22 columns</p>\n",
       "</div>"
      ],
      "text/plain": [
       "              id     offense offense_conference   defense defense_conference  \\\n",
       "83  302450194002  Ohio State            Big Ten  Marshall     Conference USA   \n",
       "84  302450194006  Ohio State            Big Ten  Marshall     Conference USA   \n",
       "85  302450194003  Ohio State            Big Ten  Marshall     Conference USA   \n",
       "86  302450194004  Ohio State            Big Ten  Marshall     Conference USA   \n",
       "87  302450194005  Ohio State            Big Ten  Marshall     Conference USA   \n",
       "\n",
       "          home      away  offense_score  defense_score     drive_id  ...  \\\n",
       "83  Ohio State  Marshall              0              0  30245019402  ...   \n",
       "84  Ohio State  Marshall              7              0  30245019402  ...   \n",
       "85  Ohio State  Marshall              0              0  30245019402  ...   \n",
       "86  Ohio State  Marshall              0              0  30245019402  ...   \n",
       "87  Ohio State  Marshall              7              0  30245019402  ...   \n",
       "\n",
       "    yards_to_goal  down  distance  yards_gained          play_type  \\\n",
       "83             22     1        10            11    Pass Completion   \n",
       "84             70    -1        -1             0            Kickoff   \n",
       "85             11     1        10             0  Pass Incompletion   \n",
       "86             11     2        10             5               Rush   \n",
       "87              6     3         5             6    Pass Completion   \n",
       "\n",
       "                                            play_text                 ppa  \\\n",
       "83  Terrelle Pryor pass complete to Jake Stoneburn...   0.125883353280535   \n",
       "84   Drew Basil kickoff for 70 yards for a touchback.                None   \n",
       "85   Terrelle Pryor pass incomplete to Brandon Saine.  -0.291297448934314   \n",
       "86     Brandon Saine rush for 5 yards to the Marsh 6.   0.037899501555332   \n",
       "87  Terrelle Pryor pass complete to DeVier Posey f...                None   \n",
       "\n",
       "   clock.minutes clock.seconds  year  \n",
       "83            14            50  2010  \n",
       "84            13            42  2010  \n",
       "85            14            22  2010  \n",
       "86            14             5  2010  \n",
       "87            13            42  2010  \n",
       "\n",
       "[5 rows x 22 columns]"
      ]
     },
     "execution_count": 234,
     "metadata": {},
     "output_type": "execute_result"
    }
   ],
   "source": [
    "data = pd.DataFrame()\n",
    "\n",
    "#Conference abbreviations: SEC, MAC, B12, PAC, MWC, B1G, CUSA, Ind, SBC, AAC, ACC\n",
    "\n",
    "conf = 'B1G'\n",
    "\n",
    "for year in range(2010,2020):\n",
    "    response = requests.get(\"https://api.collegefootballdata.com/plays?seasonType=both&year={0}&offenseConference={1}\".format(year,conf))\n",
    "    df = pd.io.json.json_normalize(response.json())\n",
    "    df = df[(~df['offense_conference'].isnull()) & (~df['defense_conference'].isnull())] #no fcs games\n",
    "    df['year']=year\n",
    "    data = pd.concat([data,df])\n",
    "\n",
    "\n",
    "data.head()\n"
   ]
  },
  {
   "cell_type": "markdown",
   "metadata": {},
   "source": [
    "Let's use only the data we need from the comprehensive results."
   ]
  },
  {
   "cell_type": "code",
   "execution_count": 241,
   "metadata": {},
   "outputs": [
    {
     "data": {
      "text/html": [
       "<div>\n",
       "<style scoped>\n",
       "    .dataframe tbody tr th:only-of-type {\n",
       "        vertical-align: middle;\n",
       "    }\n",
       "\n",
       "    .dataframe tbody tr th {\n",
       "        vertical-align: top;\n",
       "    }\n",
       "\n",
       "    .dataframe thead th {\n",
       "        text-align: right;\n",
       "    }\n",
       "</style>\n",
       "<table border=\"1\" class=\"dataframe\">\n",
       "  <thead>\n",
       "    <tr style=\"text-align: right;\">\n",
       "      <th></th>\n",
       "      <th>year</th>\n",
       "      <th>offense</th>\n",
       "      <th>offense_score</th>\n",
       "      <th>offense_conference</th>\n",
       "      <th>defense_score</th>\n",
       "      <th>yards_to_goal</th>\n",
       "      <th>down</th>\n",
       "      <th>distance</th>\n",
       "      <th>play_type</th>\n",
       "    </tr>\n",
       "  </thead>\n",
       "  <tbody>\n",
       "    <tr>\n",
       "      <th>83</th>\n",
       "      <td>2010</td>\n",
       "      <td>Ohio State</td>\n",
       "      <td>0</td>\n",
       "      <td>Big Ten</td>\n",
       "      <td>0</td>\n",
       "      <td>22</td>\n",
       "      <td>1</td>\n",
       "      <td>10</td>\n",
       "      <td>Pass Completion</td>\n",
       "    </tr>\n",
       "    <tr>\n",
       "      <th>84</th>\n",
       "      <td>2010</td>\n",
       "      <td>Ohio State</td>\n",
       "      <td>7</td>\n",
       "      <td>Big Ten</td>\n",
       "      <td>0</td>\n",
       "      <td>70</td>\n",
       "      <td>-1</td>\n",
       "      <td>-1</td>\n",
       "      <td>Kickoff</td>\n",
       "    </tr>\n",
       "    <tr>\n",
       "      <th>85</th>\n",
       "      <td>2010</td>\n",
       "      <td>Ohio State</td>\n",
       "      <td>0</td>\n",
       "      <td>Big Ten</td>\n",
       "      <td>0</td>\n",
       "      <td>11</td>\n",
       "      <td>1</td>\n",
       "      <td>10</td>\n",
       "      <td>Pass Incompletion</td>\n",
       "    </tr>\n",
       "    <tr>\n",
       "      <th>86</th>\n",
       "      <td>2010</td>\n",
       "      <td>Ohio State</td>\n",
       "      <td>0</td>\n",
       "      <td>Big Ten</td>\n",
       "      <td>0</td>\n",
       "      <td>11</td>\n",
       "      <td>2</td>\n",
       "      <td>10</td>\n",
       "      <td>Rush</td>\n",
       "    </tr>\n",
       "    <tr>\n",
       "      <th>87</th>\n",
       "      <td>2010</td>\n",
       "      <td>Ohio State</td>\n",
       "      <td>7</td>\n",
       "      <td>Big Ten</td>\n",
       "      <td>0</td>\n",
       "      <td>6</td>\n",
       "      <td>3</td>\n",
       "      <td>5</td>\n",
       "      <td>Pass Completion</td>\n",
       "    </tr>\n",
       "  </tbody>\n",
       "</table>\n",
       "</div>"
      ],
      "text/plain": [
       "    year     offense  offense_score offense_conference  defense_score  \\\n",
       "83  2010  Ohio State              0            Big Ten              0   \n",
       "84  2010  Ohio State              7            Big Ten              0   \n",
       "85  2010  Ohio State              0            Big Ten              0   \n",
       "86  2010  Ohio State              0            Big Ten              0   \n",
       "87  2010  Ohio State              7            Big Ten              0   \n",
       "\n",
       "    yards_to_goal  down  distance          play_type  \n",
       "83             22     1        10    Pass Completion  \n",
       "84             70    -1        -1            Kickoff  \n",
       "85             11     1        10  Pass Incompletion  \n",
       "86             11     2        10               Rush  \n",
       "87              6     3         5    Pass Completion  "
      ]
     },
     "execution_count": 241,
     "metadata": {},
     "output_type": "execute_result"
    }
   ],
   "source": [
    "plays = data[['year','offense', 'offense_score','offense_conference' ,'defense_score', 'yards_to_goal', 'down', 'distance', 'play_type']]\n",
    "plays.head()"
   ]
  },
  {
   "cell_type": "markdown",
   "metadata": {},
   "source": [
    "Let's identify play types so we can group together and drop the unneeded plays."
   ]
  },
  {
   "cell_type": "code",
   "execution_count": 242,
   "metadata": {},
   "outputs": [
    {
     "data": {
      "text/html": [
       "<div>\n",
       "<style scoped>\n",
       "    .dataframe tbody tr th:only-of-type {\n",
       "        vertical-align: middle;\n",
       "    }\n",
       "\n",
       "    .dataframe tbody tr th {\n",
       "        vertical-align: top;\n",
       "    }\n",
       "\n",
       "    .dataframe thead th {\n",
       "        text-align: right;\n",
       "    }\n",
       "</style>\n",
       "<table border=\"1\" class=\"dataframe\">\n",
       "  <thead>\n",
       "    <tr style=\"text-align: right;\">\n",
       "      <th></th>\n",
       "      <th>year</th>\n",
       "      <th>offense</th>\n",
       "      <th>offense_score</th>\n",
       "      <th>offense_conference</th>\n",
       "      <th>defense_score</th>\n",
       "      <th>yards_to_goal</th>\n",
       "      <th>down</th>\n",
       "      <th>distance</th>\n",
       "      <th>play_type</th>\n",
       "      <th>play_call</th>\n",
       "    </tr>\n",
       "  </thead>\n",
       "  <tbody>\n",
       "    <tr>\n",
       "      <th>83</th>\n",
       "      <td>2010</td>\n",
       "      <td>Ohio State</td>\n",
       "      <td>0</td>\n",
       "      <td>Big Ten</td>\n",
       "      <td>0</td>\n",
       "      <td>22</td>\n",
       "      <td>1</td>\n",
       "      <td>10</td>\n",
       "      <td>Pass Completion</td>\n",
       "      <td>None</td>\n",
       "    </tr>\n",
       "    <tr>\n",
       "      <th>84</th>\n",
       "      <td>2010</td>\n",
       "      <td>Ohio State</td>\n",
       "      <td>7</td>\n",
       "      <td>Big Ten</td>\n",
       "      <td>0</td>\n",
       "      <td>70</td>\n",
       "      <td>-1</td>\n",
       "      <td>-1</td>\n",
       "      <td>Kickoff</td>\n",
       "      <td>None</td>\n",
       "    </tr>\n",
       "    <tr>\n",
       "      <th>85</th>\n",
       "      <td>2010</td>\n",
       "      <td>Ohio State</td>\n",
       "      <td>0</td>\n",
       "      <td>Big Ten</td>\n",
       "      <td>0</td>\n",
       "      <td>11</td>\n",
       "      <td>1</td>\n",
       "      <td>10</td>\n",
       "      <td>Pass Incompletion</td>\n",
       "      <td>pass</td>\n",
       "    </tr>\n",
       "    <tr>\n",
       "      <th>86</th>\n",
       "      <td>2010</td>\n",
       "      <td>Ohio State</td>\n",
       "      <td>0</td>\n",
       "      <td>Big Ten</td>\n",
       "      <td>0</td>\n",
       "      <td>11</td>\n",
       "      <td>2</td>\n",
       "      <td>10</td>\n",
       "      <td>Rush</td>\n",
       "      <td>rush</td>\n",
       "    </tr>\n",
       "    <tr>\n",
       "      <th>87</th>\n",
       "      <td>2010</td>\n",
       "      <td>Ohio State</td>\n",
       "      <td>7</td>\n",
       "      <td>Big Ten</td>\n",
       "      <td>0</td>\n",
       "      <td>6</td>\n",
       "      <td>3</td>\n",
       "      <td>5</td>\n",
       "      <td>Pass Completion</td>\n",
       "      <td>None</td>\n",
       "    </tr>\n",
       "  </tbody>\n",
       "</table>\n",
       "</div>"
      ],
      "text/plain": [
       "    year     offense  offense_score offense_conference  defense_score  \\\n",
       "83  2010  Ohio State              0            Big Ten              0   \n",
       "84  2010  Ohio State              7            Big Ten              0   \n",
       "85  2010  Ohio State              0            Big Ten              0   \n",
       "86  2010  Ohio State              0            Big Ten              0   \n",
       "87  2010  Ohio State              7            Big Ten              0   \n",
       "\n",
       "    yards_to_goal  down  distance          play_type play_call  \n",
       "83             22     1        10    Pass Completion      None  \n",
       "84             70    -1        -1            Kickoff      None  \n",
       "85             11     1        10  Pass Incompletion      pass  \n",
       "86             11     2        10               Rush      rush  \n",
       "87              6     3         5    Pass Completion      None  "
      ]
     },
     "execution_count": 242,
     "metadata": {},
     "output_type": "execute_result"
    }
   ],
   "source": [
    "pass_types = ['Pass Reception', 'Pass Interception Return', 'Pass Incompletion', 'Sack', 'Passing Touchdown', 'Interception Return Touchdown']\n",
    "rush_types = ['Rush', 'Rushing Touchdown']\n",
    "punt_types = ['Punt', 'Punt Return Touchdown', 'Blocked Punt', 'Blocked Punt Touchdown']\n",
    "fg_types = ['Field Goal Good', 'Field Goal Missed', 'Blocked Field Goal']\n",
    "\n",
    "def getPlayCall(x):\n",
    "    if x in pass_types:\n",
    "            return 'pass'\n",
    "    elif x in rush_types:\n",
    "        return 'rush'\n",
    "    elif x in punt_types:\n",
    "        return 'punt'\n",
    "    elif x in fg_types:\n",
    "        return 'fg'\n",
    "    else:\n",
    "        return None\n",
    "        \n",
    "plays['play_call'] = plays['play_type'].apply(getPlayCall)\n",
    "plays.head()"
   ]
  },
  {
   "cell_type": "markdown",
   "metadata": {},
   "source": [
    "Simplify things a little bit and get the score margin."
   ]
  },
  {
   "cell_type": "code",
   "execution_count": 243,
   "metadata": {},
   "outputs": [
    {
     "data": {
      "text/html": [
       "<div>\n",
       "<style scoped>\n",
       "    .dataframe tbody tr th:only-of-type {\n",
       "        vertical-align: middle;\n",
       "    }\n",
       "\n",
       "    .dataframe tbody tr th {\n",
       "        vertical-align: top;\n",
       "    }\n",
       "\n",
       "    .dataframe thead th {\n",
       "        text-align: right;\n",
       "    }\n",
       "</style>\n",
       "<table border=\"1\" class=\"dataframe\">\n",
       "  <thead>\n",
       "    <tr style=\"text-align: right;\">\n",
       "      <th></th>\n",
       "      <th>year</th>\n",
       "      <th>offense</th>\n",
       "      <th>offense_conference</th>\n",
       "      <th>yards_to_goal</th>\n",
       "      <th>down</th>\n",
       "      <th>distance</th>\n",
       "      <th>play_call</th>\n",
       "      <th>score_margin</th>\n",
       "    </tr>\n",
       "  </thead>\n",
       "  <tbody>\n",
       "    <tr>\n",
       "      <th>85</th>\n",
       "      <td>2010</td>\n",
       "      <td>Ohio State</td>\n",
       "      <td>Big Ten</td>\n",
       "      <td>11</td>\n",
       "      <td>1</td>\n",
       "      <td>10</td>\n",
       "      <td>pass</td>\n",
       "      <td>0</td>\n",
       "    </tr>\n",
       "    <tr>\n",
       "      <th>86</th>\n",
       "      <td>2010</td>\n",
       "      <td>Ohio State</td>\n",
       "      <td>Big Ten</td>\n",
       "      <td>11</td>\n",
       "      <td>2</td>\n",
       "      <td>10</td>\n",
       "      <td>rush</td>\n",
       "      <td>0</td>\n",
       "    </tr>\n",
       "    <tr>\n",
       "      <th>89</th>\n",
       "      <td>2010</td>\n",
       "      <td>Ohio State</td>\n",
       "      <td>Big Ten</td>\n",
       "      <td>4</td>\n",
       "      <td>1</td>\n",
       "      <td>4</td>\n",
       "      <td>rush</td>\n",
       "      <td>14</td>\n",
       "    </tr>\n",
       "    <tr>\n",
       "      <th>90</th>\n",
       "      <td>2010</td>\n",
       "      <td>Ohio State</td>\n",
       "      <td>Big Ten</td>\n",
       "      <td>44</td>\n",
       "      <td>2</td>\n",
       "      <td>5</td>\n",
       "      <td>rush</td>\n",
       "      <td>7</td>\n",
       "    </tr>\n",
       "    <tr>\n",
       "      <th>92</th>\n",
       "      <td>2010</td>\n",
       "      <td>Ohio State</td>\n",
       "      <td>Big Ten</td>\n",
       "      <td>45</td>\n",
       "      <td>2</td>\n",
       "      <td>10</td>\n",
       "      <td>rush</td>\n",
       "      <td>14</td>\n",
       "    </tr>\n",
       "  </tbody>\n",
       "</table>\n",
       "</div>"
      ],
      "text/plain": [
       "    year     offense offense_conference  yards_to_goal  down  distance  \\\n",
       "85  2010  Ohio State            Big Ten             11     1        10   \n",
       "86  2010  Ohio State            Big Ten             11     2        10   \n",
       "89  2010  Ohio State            Big Ten              4     1         4   \n",
       "90  2010  Ohio State            Big Ten             44     2         5   \n",
       "92  2010  Ohio State            Big Ten             45     2        10   \n",
       "\n",
       "   play_call  score_margin  \n",
       "85      pass             0  \n",
       "86      rush             0  \n",
       "89      rush            14  \n",
       "90      rush             7  \n",
       "92      rush            14  "
      ]
     },
     "execution_count": 243,
     "metadata": {},
     "output_type": "execute_result"
    }
   ],
   "source": [
    "plays.dropna(subset=['play_call'], inplace=True)\n",
    "plays['score_margin'] = plays['offense_score']-plays['defense_score']\n",
    "plays.drop(columns = ['play_type','offense_score','defense_score'], inplace = True)\n",
    "\n",
    "plays.head()"
   ]
  },
  {
   "cell_type": "markdown",
   "metadata": {},
   "source": [
    "Lets get the first and ten plays where the offense is within one score of their opponent."
   ]
  },
  {
   "cell_type": "code",
   "execution_count": 244,
   "metadata": {},
   "outputs": [
    {
     "data": {
      "text/html": [
       "<div>\n",
       "<style scoped>\n",
       "    .dataframe tbody tr th:only-of-type {\n",
       "        vertical-align: middle;\n",
       "    }\n",
       "\n",
       "    .dataframe tbody tr th {\n",
       "        vertical-align: top;\n",
       "    }\n",
       "\n",
       "    .dataframe thead th {\n",
       "        text-align: right;\n",
       "    }\n",
       "</style>\n",
       "<table border=\"1\" class=\"dataframe\">\n",
       "  <thead>\n",
       "    <tr style=\"text-align: right;\">\n",
       "      <th></th>\n",
       "      <th>year</th>\n",
       "      <th>offense</th>\n",
       "      <th>offense_conference</th>\n",
       "      <th>yards_to_goal</th>\n",
       "      <th>down</th>\n",
       "      <th>distance</th>\n",
       "      <th>play_call</th>\n",
       "      <th>score_margin</th>\n",
       "    </tr>\n",
       "  </thead>\n",
       "  <tbody>\n",
       "    <tr>\n",
       "      <th>224</th>\n",
       "      <td>2010</td>\n",
       "      <td>Minnesota</td>\n",
       "      <td>Big Ten</td>\n",
       "      <td>37</td>\n",
       "      <td>1</td>\n",
       "      <td>10</td>\n",
       "      <td>rush</td>\n",
       "      <td>-3</td>\n",
       "    </tr>\n",
       "    <tr>\n",
       "      <th>226</th>\n",
       "      <td>2010</td>\n",
       "      <td>Minnesota</td>\n",
       "      <td>Big Ten</td>\n",
       "      <td>72</td>\n",
       "      <td>1</td>\n",
       "      <td>10</td>\n",
       "      <td>rush</td>\n",
       "      <td>-3</td>\n",
       "    </tr>\n",
       "    <tr>\n",
       "      <th>232</th>\n",
       "      <td>2010</td>\n",
       "      <td>Minnesota</td>\n",
       "      <td>Big Ten</td>\n",
       "      <td>60</td>\n",
       "      <td>1</td>\n",
       "      <td>10</td>\n",
       "      <td>pass</td>\n",
       "      <td>-3</td>\n",
       "    </tr>\n",
       "    <tr>\n",
       "      <th>233</th>\n",
       "      <td>2010</td>\n",
       "      <td>Minnesota</td>\n",
       "      <td>Big Ten</td>\n",
       "      <td>48</td>\n",
       "      <td>1</td>\n",
       "      <td>10</td>\n",
       "      <td>rush</td>\n",
       "      <td>-3</td>\n",
       "    </tr>\n",
       "    <tr>\n",
       "      <th>241</th>\n",
       "      <td>2010</td>\n",
       "      <td>Minnesota</td>\n",
       "      <td>Big Ten</td>\n",
       "      <td>10</td>\n",
       "      <td>1</td>\n",
       "      <td>10</td>\n",
       "      <td>rush</td>\n",
       "      <td>-3</td>\n",
       "    </tr>\n",
       "  </tbody>\n",
       "</table>\n",
       "</div>"
      ],
      "text/plain": [
       "     year    offense offense_conference  yards_to_goal  down  distance  \\\n",
       "224  2010  Minnesota            Big Ten             37     1        10   \n",
       "226  2010  Minnesota            Big Ten             72     1        10   \n",
       "232  2010  Minnesota            Big Ten             60     1        10   \n",
       "233  2010  Minnesota            Big Ten             48     1        10   \n",
       "241  2010  Minnesota            Big Ten             10     1        10   \n",
       "\n",
       "    play_call  score_margin  \n",
       "224      rush            -3  \n",
       "226      rush            -3  \n",
       "232      pass            -3  \n",
       "233      rush            -3  \n",
       "241      rush            -3  "
      ]
     },
     "execution_count": 244,
     "metadata": {},
     "output_type": "execute_result"
    }
   ],
   "source": [
    "fnt = plays.loc[(plays['down']==1)&(plays['distance']==10)]\n",
    "fnt = fnt.loc[(fnt['score_margin']<0) & (fnt['score_margin']>-9)]\n",
    "fnt.head()"
   ]
  },
  {
   "cell_type": "markdown",
   "metadata": {},
   "source": [
    "We would like to see the percentage of these plays that are rushes, by team and by year."
   ]
  },
  {
   "cell_type": "code",
   "execution_count": 245,
   "metadata": {},
   "outputs": [
    {
     "data": {
      "text/html": [
       "<div>\n",
       "<style scoped>\n",
       "    .dataframe tbody tr th:only-of-type {\n",
       "        vertical-align: middle;\n",
       "    }\n",
       "\n",
       "    .dataframe tbody tr th {\n",
       "        vertical-align: top;\n",
       "    }\n",
       "\n",
       "    .dataframe thead th {\n",
       "        text-align: right;\n",
       "    }\n",
       "</style>\n",
       "<table border=\"1\" class=\"dataframe\">\n",
       "  <thead>\n",
       "    <tr style=\"text-align: right;\">\n",
       "      <th>offense</th>\n",
       "      <th>Illinois</th>\n",
       "      <th>Indiana</th>\n",
       "      <th>Iowa</th>\n",
       "      <th>Maryland</th>\n",
       "      <th>Michigan</th>\n",
       "      <th>Michigan State</th>\n",
       "      <th>Minnesota</th>\n",
       "      <th>Nebraska</th>\n",
       "      <th>Northwestern</th>\n",
       "      <th>Ohio State</th>\n",
       "      <th>Penn State</th>\n",
       "      <th>Purdue</th>\n",
       "      <th>Rutgers</th>\n",
       "      <th>Wisconsin</th>\n",
       "    </tr>\n",
       "    <tr>\n",
       "      <th>year</th>\n",
       "      <th></th>\n",
       "      <th></th>\n",
       "      <th></th>\n",
       "      <th></th>\n",
       "      <th></th>\n",
       "      <th></th>\n",
       "      <th></th>\n",
       "      <th></th>\n",
       "      <th></th>\n",
       "      <th></th>\n",
       "      <th></th>\n",
       "      <th></th>\n",
       "      <th></th>\n",
       "      <th></th>\n",
       "    </tr>\n",
       "  </thead>\n",
       "  <tbody>\n",
       "    <tr>\n",
       "      <th>2010</th>\n",
       "      <td>0.820896</td>\n",
       "      <td>0.720430</td>\n",
       "      <td>0.725490</td>\n",
       "      <td>NaN</td>\n",
       "      <td>0.829268</td>\n",
       "      <td>0.809524</td>\n",
       "      <td>0.823529</td>\n",
       "      <td>NaN</td>\n",
       "      <td>0.829268</td>\n",
       "      <td>0.700000</td>\n",
       "      <td>0.795455</td>\n",
       "      <td>0.775000</td>\n",
       "      <td>NaN</td>\n",
       "      <td>0.830189</td>\n",
       "    </tr>\n",
       "    <tr>\n",
       "      <th>2011</th>\n",
       "      <td>0.739130</td>\n",
       "      <td>0.818182</td>\n",
       "      <td>0.702703</td>\n",
       "      <td>NaN</td>\n",
       "      <td>0.765625</td>\n",
       "      <td>0.805556</td>\n",
       "      <td>0.791667</td>\n",
       "      <td>0.883721</td>\n",
       "      <td>0.842105</td>\n",
       "      <td>0.785714</td>\n",
       "      <td>0.648148</td>\n",
       "      <td>0.796117</td>\n",
       "      <td>NaN</td>\n",
       "      <td>0.734694</td>\n",
       "    </tr>\n",
       "    <tr>\n",
       "      <th>2012</th>\n",
       "      <td>0.783784</td>\n",
       "      <td>0.702128</td>\n",
       "      <td>0.752809</td>\n",
       "      <td>NaN</td>\n",
       "      <td>0.762712</td>\n",
       "      <td>0.705357</td>\n",
       "      <td>0.855072</td>\n",
       "      <td>0.855263</td>\n",
       "      <td>0.607843</td>\n",
       "      <td>0.741379</td>\n",
       "      <td>0.750000</td>\n",
       "      <td>0.684211</td>\n",
       "      <td>NaN</td>\n",
       "      <td>0.876923</td>\n",
       "    </tr>\n",
       "    <tr>\n",
       "      <th>2013</th>\n",
       "      <td>0.727273</td>\n",
       "      <td>0.705882</td>\n",
       "      <td>0.711111</td>\n",
       "      <td>NaN</td>\n",
       "      <td>0.803571</td>\n",
       "      <td>0.770833</td>\n",
       "      <td>0.824561</td>\n",
       "      <td>0.813559</td>\n",
       "      <td>0.927273</td>\n",
       "      <td>0.810345</td>\n",
       "      <td>0.793651</td>\n",
       "      <td>0.828571</td>\n",
       "      <td>NaN</td>\n",
       "      <td>0.787234</td>\n",
       "    </tr>\n",
       "    <tr>\n",
       "      <th>2014</th>\n",
       "      <td>0.434783</td>\n",
       "      <td>0.644444</td>\n",
       "      <td>0.418919</td>\n",
       "      <td>0.512195</td>\n",
       "      <td>0.450704</td>\n",
       "      <td>0.571429</td>\n",
       "      <td>0.750000</td>\n",
       "      <td>0.566667</td>\n",
       "      <td>0.417582</td>\n",
       "      <td>0.515152</td>\n",
       "      <td>0.418605</td>\n",
       "      <td>0.579710</td>\n",
       "      <td>0.631579</td>\n",
       "      <td>0.579710</td>\n",
       "    </tr>\n",
       "    <tr>\n",
       "      <th>2015</th>\n",
       "      <td>0.394366</td>\n",
       "      <td>0.588235</td>\n",
       "      <td>0.771429</td>\n",
       "      <td>0.630137</td>\n",
       "      <td>0.516129</td>\n",
       "      <td>0.666667</td>\n",
       "      <td>0.650485</td>\n",
       "      <td>0.592105</td>\n",
       "      <td>0.653846</td>\n",
       "      <td>0.575758</td>\n",
       "      <td>0.456140</td>\n",
       "      <td>0.518987</td>\n",
       "      <td>0.684211</td>\n",
       "      <td>0.558140</td>\n",
       "    </tr>\n",
       "    <tr>\n",
       "      <th>2016</th>\n",
       "      <td>0.608696</td>\n",
       "      <td>0.638095</td>\n",
       "      <td>0.686567</td>\n",
       "      <td>0.651163</td>\n",
       "      <td>0.675676</td>\n",
       "      <td>0.606061</td>\n",
       "      <td>0.538462</td>\n",
       "      <td>0.746667</td>\n",
       "      <td>0.463415</td>\n",
       "      <td>0.538462</td>\n",
       "      <td>0.554054</td>\n",
       "      <td>0.461538</td>\n",
       "      <td>0.696970</td>\n",
       "      <td>0.719298</td>\n",
       "    </tr>\n",
       "    <tr>\n",
       "      <th>2017</th>\n",
       "      <td>0.539474</td>\n",
       "      <td>0.380952</td>\n",
       "      <td>0.568421</td>\n",
       "      <td>0.511111</td>\n",
       "      <td>0.500000</td>\n",
       "      <td>0.515625</td>\n",
       "      <td>0.622951</td>\n",
       "      <td>0.607143</td>\n",
       "      <td>0.422222</td>\n",
       "      <td>0.630435</td>\n",
       "      <td>0.565217</td>\n",
       "      <td>0.366071</td>\n",
       "      <td>0.606557</td>\n",
       "      <td>0.622222</td>\n",
       "    </tr>\n",
       "    <tr>\n",
       "      <th>2018</th>\n",
       "      <td>0.611111</td>\n",
       "      <td>0.541284</td>\n",
       "      <td>0.596774</td>\n",
       "      <td>0.800000</td>\n",
       "      <td>0.642857</td>\n",
       "      <td>0.456140</td>\n",
       "      <td>0.515152</td>\n",
       "      <td>0.527473</td>\n",
       "      <td>0.434783</td>\n",
       "      <td>0.520408</td>\n",
       "      <td>0.365079</td>\n",
       "      <td>0.345679</td>\n",
       "      <td>0.600000</td>\n",
       "      <td>0.800000</td>\n",
       "    </tr>\n",
       "    <tr>\n",
       "      <th>2019</th>\n",
       "      <td>0.755556</td>\n",
       "      <td>0.397436</td>\n",
       "      <td>0.452055</td>\n",
       "      <td>0.579710</td>\n",
       "      <td>0.507692</td>\n",
       "      <td>0.492063</td>\n",
       "      <td>0.612245</td>\n",
       "      <td>0.587302</td>\n",
       "      <td>0.666667</td>\n",
       "      <td>0.466667</td>\n",
       "      <td>0.543478</td>\n",
       "      <td>0.364706</td>\n",
       "      <td>0.718750</td>\n",
       "      <td>0.578947</td>\n",
       "    </tr>\n",
       "  </tbody>\n",
       "</table>\n",
       "</div>"
      ],
      "text/plain": [
       "offense  Illinois   Indiana      Iowa  Maryland  Michigan  Michigan State  \\\n",
       "year                                                                        \n",
       "2010     0.820896  0.720430  0.725490       NaN  0.829268        0.809524   \n",
       "2011     0.739130  0.818182  0.702703       NaN  0.765625        0.805556   \n",
       "2012     0.783784  0.702128  0.752809       NaN  0.762712        0.705357   \n",
       "2013     0.727273  0.705882  0.711111       NaN  0.803571        0.770833   \n",
       "2014     0.434783  0.644444  0.418919  0.512195  0.450704        0.571429   \n",
       "2015     0.394366  0.588235  0.771429  0.630137  0.516129        0.666667   \n",
       "2016     0.608696  0.638095  0.686567  0.651163  0.675676        0.606061   \n",
       "2017     0.539474  0.380952  0.568421  0.511111  0.500000        0.515625   \n",
       "2018     0.611111  0.541284  0.596774  0.800000  0.642857        0.456140   \n",
       "2019     0.755556  0.397436  0.452055  0.579710  0.507692        0.492063   \n",
       "\n",
       "offense  Minnesota  Nebraska  Northwestern  Ohio State  Penn State    Purdue  \\\n",
       "year                                                                           \n",
       "2010      0.823529       NaN      0.829268    0.700000    0.795455  0.775000   \n",
       "2011      0.791667  0.883721      0.842105    0.785714    0.648148  0.796117   \n",
       "2012      0.855072  0.855263      0.607843    0.741379    0.750000  0.684211   \n",
       "2013      0.824561  0.813559      0.927273    0.810345    0.793651  0.828571   \n",
       "2014      0.750000  0.566667      0.417582    0.515152    0.418605  0.579710   \n",
       "2015      0.650485  0.592105      0.653846    0.575758    0.456140  0.518987   \n",
       "2016      0.538462  0.746667      0.463415    0.538462    0.554054  0.461538   \n",
       "2017      0.622951  0.607143      0.422222    0.630435    0.565217  0.366071   \n",
       "2018      0.515152  0.527473      0.434783    0.520408    0.365079  0.345679   \n",
       "2019      0.612245  0.587302      0.666667    0.466667    0.543478  0.364706   \n",
       "\n",
       "offense   Rutgers  Wisconsin  \n",
       "year                          \n",
       "2010          NaN   0.830189  \n",
       "2011          NaN   0.734694  \n",
       "2012          NaN   0.876923  \n",
       "2013          NaN   0.787234  \n",
       "2014     0.631579   0.579710  \n",
       "2015     0.684211   0.558140  \n",
       "2016     0.696970   0.719298  \n",
       "2017     0.606557   0.622222  \n",
       "2018     0.600000   0.800000  \n",
       "2019     0.718750   0.578947  "
      ]
     },
     "execution_count": 245,
     "metadata": {},
     "output_type": "execute_result"
    }
   ],
   "source": [
    "rushes = fnt.loc[fnt['play_call']=='rush']\n",
    "passes = fnt.loc[fnt['play_call']=='pass']\n",
    "\n",
    "pass_by_team = passes[['offense','year','play_call']].groupby(['offense','year']).count()\n",
    "rush_by_team = rushes[['offense','year','play_call']].groupby(['offense','year']).count()\n",
    "\n",
    "\n",
    "rush_perc = rush_by_team/(rush_by_team+pass_by_team)\n",
    "\n",
    "rush_perc_plot = rush_perc.unstack().droplevel(axis = 1, level = 0).transpose()\n",
    "rush_perc_plot"
   ]
  },
  {
   "cell_type": "markdown",
   "metadata": {},
   "source": [
    "We would like to the team colors for prettier plotting. Let's get that now."
   ]
  },
  {
   "cell_type": "code",
   "execution_count": 268,
   "metadata": {},
   "outputs": [
    {
     "data": {
      "text/plain": [
       "{'Illinois': '#f77329',\n",
       " 'Indiana': '#7D110C',\n",
       " 'Iowa': '#000000',\n",
       " 'Maryland': '#D5002B',\n",
       " 'Michigan': '#00274c',\n",
       " 'Michigan State': '#18453B',\n",
       " 'Minnesota': '#7F011B',\n",
       " 'Nebraska': '#F20017',\n",
       " 'Northwestern': '#372286',\n",
       " 'Ohio State': '#DE3121',\n",
       " 'Penn State': '#00265D',\n",
       " 'Purdue': '#B89D29',\n",
       " 'Rutgers': '#d21034',\n",
       " 'Wisconsin': '#A00001'}"
      ]
     },
     "execution_count": 268,
     "metadata": {},
     "output_type": "execute_result"
    }
   ],
   "source": [
    "response = requests.get(\"https://api.collegefootballdata.com/teams\")\n",
    "df = pd.io.json.json_normalize(response.json())\n",
    "df = df[~df['conference'].isnull()]\n",
    "\n",
    "teams = df[['school','conference','color']]\n",
    "\n",
    "response = requests.get(\"https://api.collegefootballdata.com/conferences\")\n",
    "df = pd.io.json.json_normalize(response.json())\n",
    "df = df[df['abbreviation']==conf]\n",
    "\n",
    "conference = df['name'].values[0]\n",
    "conf_teams = teams.loc[teams['conference']==conference]\n",
    "\n",
    "conf_dict = dict(zip(conf_teams.school,conf_teams.color))\n",
    "conf_dict"
   ]
  },
  {
   "cell_type": "markdown",
   "metadata": {},
   "source": [
    "Now we can put the dataframe of rushing percentages into an interactive plot, color coded by team!"
   ]
  },
  {
   "cell_type": "code",
   "execution_count": 270,
   "metadata": {},
   "outputs": [
    {
     "data": {
      "application/vnd.plotly.v1+json": {
       "config": {
        "linkText": "Export to plot.ly",
        "plotlyServerURL": "https://plot.ly",
        "showLink": true
       },
       "data": [
        {
         "line": {
          "color": "#f77329",
          "dash": "solid",
          "shape": "linear",
          "width": 1.3
         },
         "marker": {
          "size": 12,
          "symbol": "triangle-up"
         },
         "mode": "lines+markers",
         "name": "Illinois",
         "text": "",
         "type": "scatter",
         "x": [
          2010,
          2011,
          2012,
          2013,
          2014,
          2015,
          2016,
          2017,
          2018,
          2019
         ],
         "y": [
          0.8208955223880597,
          0.7391304347826086,
          0.7837837837837838,
          0.7272727272727273,
          0.43478260869565216,
          0.39436619718309857,
          0.6086956521739131,
          0.5394736842105263,
          0.6111111111111112,
          0.7555555555555555
         ]
        },
        {
         "line": {
          "color": "#7D110C",
          "dash": "solid",
          "shape": "linear",
          "width": 1.3
         },
         "marker": {
          "size": 12,
          "symbol": "triangle-up"
         },
         "mode": "lines+markers",
         "name": "Indiana",
         "text": "",
         "type": "scatter",
         "x": [
          2010,
          2011,
          2012,
          2013,
          2014,
          2015,
          2016,
          2017,
          2018,
          2019
         ],
         "y": [
          0.7204301075268817,
          0.8181818181818182,
          0.7021276595744681,
          0.7058823529411765,
          0.6444444444444445,
          0.5882352941176471,
          0.638095238095238,
          0.38095238095238093,
          0.5412844036697247,
          0.3974358974358974
         ]
        },
        {
         "line": {
          "color": "#000000",
          "dash": "solid",
          "shape": "linear",
          "width": 1.3
         },
         "marker": {
          "size": 12,
          "symbol": "triangle-up"
         },
         "mode": "lines+markers",
         "name": "Iowa",
         "text": "",
         "type": "scatter",
         "x": [
          2010,
          2011,
          2012,
          2013,
          2014,
          2015,
          2016,
          2017,
          2018,
          2019
         ],
         "y": [
          0.7254901960784313,
          0.7027027027027027,
          0.7528089887640449,
          0.7111111111111111,
          0.4189189189189189,
          0.7714285714285715,
          0.6865671641791045,
          0.5684210526315789,
          0.5967741935483871,
          0.4520547945205479
         ]
        },
        {
         "line": {
          "color": "#D5002B",
          "dash": "solid",
          "shape": "linear",
          "width": 1.3
         },
         "marker": {
          "size": 12,
          "symbol": "triangle-up"
         },
         "mode": "lines+markers",
         "name": "Maryland",
         "text": "",
         "type": "scatter",
         "x": [
          2010,
          2011,
          2012,
          2013,
          2014,
          2015,
          2016,
          2017,
          2018,
          2019
         ],
         "y": [
          "",
          "",
          "",
          "",
          0.5121951219512195,
          0.6301369863013698,
          0.6511627906976745,
          0.5111111111111111,
          0.8,
          0.5797101449275363
         ]
        },
        {
         "line": {
          "color": "#00274c",
          "dash": "solid",
          "shape": "linear",
          "width": 1.3
         },
         "marker": {
          "size": 12,
          "symbol": "triangle-up"
         },
         "mode": "lines+markers",
         "name": "Michigan",
         "text": "",
         "type": "scatter",
         "x": [
          2010,
          2011,
          2012,
          2013,
          2014,
          2015,
          2016,
          2017,
          2018,
          2019
         ],
         "y": [
          0.8292682926829268,
          0.765625,
          0.7627118644067796,
          0.8035714285714286,
          0.4507042253521127,
          0.5161290322580645,
          0.6756756756756757,
          0.5,
          0.6428571428571429,
          0.5076923076923077
         ]
        },
        {
         "line": {
          "color": "#18453B",
          "dash": "solid",
          "shape": "linear",
          "width": 1.3
         },
         "marker": {
          "size": 12,
          "symbol": "triangle-up"
         },
         "mode": "lines+markers",
         "name": "Michigan State",
         "text": "",
         "type": "scatter",
         "x": [
          2010,
          2011,
          2012,
          2013,
          2014,
          2015,
          2016,
          2017,
          2018,
          2019
         ],
         "y": [
          0.8095238095238095,
          0.8055555555555556,
          0.7053571428571429,
          0.7708333333333334,
          0.5714285714285714,
          0.6666666666666666,
          0.6060606060606061,
          0.515625,
          0.45614035087719296,
          0.49206349206349204
         ]
        },
        {
         "line": {
          "color": "#7F011B",
          "dash": "solid",
          "shape": "linear",
          "width": 1.3
         },
         "marker": {
          "size": 12,
          "symbol": "triangle-up"
         },
         "mode": "lines+markers",
         "name": "Minnesota",
         "text": "",
         "type": "scatter",
         "x": [
          2010,
          2011,
          2012,
          2013,
          2014,
          2015,
          2016,
          2017,
          2018,
          2019
         ],
         "y": [
          0.8235294117647058,
          0.7916666666666666,
          0.855072463768116,
          0.8245614035087719,
          0.75,
          0.6504854368932039,
          0.5384615384615384,
          0.6229508196721312,
          0.5151515151515151,
          0.6122448979591837
         ]
        },
        {
         "line": {
          "color": "#F20017",
          "dash": "solid",
          "shape": "linear",
          "width": 1.3
         },
         "marker": {
          "size": 12,
          "symbol": "triangle-up"
         },
         "mode": "lines+markers",
         "name": "Nebraska",
         "text": "",
         "type": "scatter",
         "x": [
          2010,
          2011,
          2012,
          2013,
          2014,
          2015,
          2016,
          2017,
          2018,
          2019
         ],
         "y": [
          "",
          0.8837209302325582,
          0.8552631578947368,
          0.8135593220338984,
          0.5666666666666667,
          0.5921052631578947,
          0.7466666666666667,
          0.6071428571428571,
          0.5274725274725275,
          0.5873015873015873
         ]
        },
        {
         "line": {
          "color": "#372286",
          "dash": "solid",
          "shape": "linear",
          "width": 1.3
         },
         "marker": {
          "size": 12,
          "symbol": "triangle-up"
         },
         "mode": "lines+markers",
         "name": "Northwestern",
         "text": "",
         "type": "scatter",
         "x": [
          2010,
          2011,
          2012,
          2013,
          2014,
          2015,
          2016,
          2017,
          2018,
          2019
         ],
         "y": [
          0.8292682926829268,
          0.8421052631578947,
          0.6078431372549019,
          0.9272727272727272,
          0.4175824175824176,
          0.6538461538461539,
          0.4634146341463415,
          0.4222222222222222,
          0.43478260869565216,
          0.6666666666666666
         ]
        },
        {
         "line": {
          "color": "#DE3121",
          "dash": "solid",
          "shape": "linear",
          "width": 1.3
         },
         "marker": {
          "size": 12,
          "symbol": "triangle-up"
         },
         "mode": "lines+markers",
         "name": "Ohio State",
         "text": "",
         "type": "scatter",
         "x": [
          2010,
          2011,
          2012,
          2013,
          2014,
          2015,
          2016,
          2017,
          2018,
          2019
         ],
         "y": [
          0.7,
          0.7857142857142857,
          0.7413793103448276,
          0.8103448275862069,
          0.5151515151515151,
          0.5757575757575758,
          0.5384615384615384,
          0.6304347826086957,
          0.5204081632653061,
          0.4666666666666667
         ]
        },
        {
         "line": {
          "color": "#00265D",
          "dash": "solid",
          "shape": "linear",
          "width": 1.3
         },
         "marker": {
          "size": 12,
          "symbol": "triangle-up"
         },
         "mode": "lines+markers",
         "name": "Penn State",
         "text": "",
         "type": "scatter",
         "x": [
          2010,
          2011,
          2012,
          2013,
          2014,
          2015,
          2016,
          2017,
          2018,
          2019
         ],
         "y": [
          0.7954545454545454,
          0.6481481481481481,
          0.75,
          0.7936507936507936,
          0.4186046511627907,
          0.45614035087719296,
          0.5540540540540541,
          0.5652173913043478,
          0.36507936507936506,
          0.5434782608695652
         ]
        },
        {
         "line": {
          "color": "#B89D29",
          "dash": "solid",
          "shape": "linear",
          "width": 1.3
         },
         "marker": {
          "size": 12,
          "symbol": "triangle-up"
         },
         "mode": "lines+markers",
         "name": "Purdue",
         "text": "",
         "type": "scatter",
         "x": [
          2010,
          2011,
          2012,
          2013,
          2014,
          2015,
          2016,
          2017,
          2018,
          2019
         ],
         "y": [
          0.775,
          0.7961165048543689,
          0.6842105263157895,
          0.8285714285714286,
          0.5797101449275363,
          0.5189873417721519,
          0.46153846153846156,
          0.36607142857142855,
          0.345679012345679,
          0.36470588235294116
         ]
        },
        {
         "line": {
          "color": "#d21034",
          "dash": "solid",
          "shape": "linear",
          "width": 1.3
         },
         "marker": {
          "size": 12,
          "symbol": "triangle-up"
         },
         "mode": "lines+markers",
         "name": "Rutgers",
         "text": "",
         "type": "scatter",
         "x": [
          2010,
          2011,
          2012,
          2013,
          2014,
          2015,
          2016,
          2017,
          2018,
          2019
         ],
         "y": [
          "",
          "",
          "",
          "",
          0.631578947368421,
          0.6842105263157895,
          0.696969696969697,
          0.6065573770491803,
          0.6,
          0.71875
         ]
        },
        {
         "line": {
          "color": "#A00001",
          "dash": "solid",
          "shape": "linear",
          "width": 1.3
         },
         "marker": {
          "size": 12,
          "symbol": "triangle-up"
         },
         "mode": "lines+markers",
         "name": "Wisconsin",
         "text": "",
         "type": "scatter",
         "x": [
          2010,
          2011,
          2012,
          2013,
          2014,
          2015,
          2016,
          2017,
          2018,
          2019
         ],
         "y": [
          0.8301886792452831,
          0.7346938775510204,
          0.8769230769230769,
          0.7872340425531915,
          0.5797101449275363,
          0.5581395348837209,
          0.7192982456140351,
          0.6222222222222222,
          0.8,
          0.5789473684210527
         ]
        }
       ],
       "layout": {
        "legend": {
         "bgcolor": "#F5F6F9",
         "font": {
          "color": "#4D5663"
         }
        },
        "paper_bgcolor": "#F5F6F9",
        "plot_bgcolor": "#F5F6F9",
        "template": {
         "data": {
          "bar": [
           {
            "error_x": {
             "color": "#2a3f5f"
            },
            "error_y": {
             "color": "#2a3f5f"
            },
            "marker": {
             "line": {
              "color": "#E5ECF6",
              "width": 0.5
             }
            },
            "type": "bar"
           }
          ],
          "barpolar": [
           {
            "marker": {
             "line": {
              "color": "#E5ECF6",
              "width": 0.5
             }
            },
            "type": "barpolar"
           }
          ],
          "carpet": [
           {
            "aaxis": {
             "endlinecolor": "#2a3f5f",
             "gridcolor": "white",
             "linecolor": "white",
             "minorgridcolor": "white",
             "startlinecolor": "#2a3f5f"
            },
            "baxis": {
             "endlinecolor": "#2a3f5f",
             "gridcolor": "white",
             "linecolor": "white",
             "minorgridcolor": "white",
             "startlinecolor": "#2a3f5f"
            },
            "type": "carpet"
           }
          ],
          "choropleth": [
           {
            "colorbar": {
             "outlinewidth": 0,
             "ticks": ""
            },
            "type": "choropleth"
           }
          ],
          "contour": [
           {
            "colorbar": {
             "outlinewidth": 0,
             "ticks": ""
            },
            "colorscale": [
             [
              0,
              "#0d0887"
             ],
             [
              0.1111111111111111,
              "#46039f"
             ],
             [
              0.2222222222222222,
              "#7201a8"
             ],
             [
              0.3333333333333333,
              "#9c179e"
             ],
             [
              0.4444444444444444,
              "#bd3786"
             ],
             [
              0.5555555555555556,
              "#d8576b"
             ],
             [
              0.6666666666666666,
              "#ed7953"
             ],
             [
              0.7777777777777778,
              "#fb9f3a"
             ],
             [
              0.8888888888888888,
              "#fdca26"
             ],
             [
              1,
              "#f0f921"
             ]
            ],
            "type": "contour"
           }
          ],
          "contourcarpet": [
           {
            "colorbar": {
             "outlinewidth": 0,
             "ticks": ""
            },
            "type": "contourcarpet"
           }
          ],
          "heatmap": [
           {
            "colorbar": {
             "outlinewidth": 0,
             "ticks": ""
            },
            "colorscale": [
             [
              0,
              "#0d0887"
             ],
             [
              0.1111111111111111,
              "#46039f"
             ],
             [
              0.2222222222222222,
              "#7201a8"
             ],
             [
              0.3333333333333333,
              "#9c179e"
             ],
             [
              0.4444444444444444,
              "#bd3786"
             ],
             [
              0.5555555555555556,
              "#d8576b"
             ],
             [
              0.6666666666666666,
              "#ed7953"
             ],
             [
              0.7777777777777778,
              "#fb9f3a"
             ],
             [
              0.8888888888888888,
              "#fdca26"
             ],
             [
              1,
              "#f0f921"
             ]
            ],
            "type": "heatmap"
           }
          ],
          "heatmapgl": [
           {
            "colorbar": {
             "outlinewidth": 0,
             "ticks": ""
            },
            "colorscale": [
             [
              0,
              "#0d0887"
             ],
             [
              0.1111111111111111,
              "#46039f"
             ],
             [
              0.2222222222222222,
              "#7201a8"
             ],
             [
              0.3333333333333333,
              "#9c179e"
             ],
             [
              0.4444444444444444,
              "#bd3786"
             ],
             [
              0.5555555555555556,
              "#d8576b"
             ],
             [
              0.6666666666666666,
              "#ed7953"
             ],
             [
              0.7777777777777778,
              "#fb9f3a"
             ],
             [
              0.8888888888888888,
              "#fdca26"
             ],
             [
              1,
              "#f0f921"
             ]
            ],
            "type": "heatmapgl"
           }
          ],
          "histogram": [
           {
            "marker": {
             "colorbar": {
              "outlinewidth": 0,
              "ticks": ""
             }
            },
            "type": "histogram"
           }
          ],
          "histogram2d": [
           {
            "colorbar": {
             "outlinewidth": 0,
             "ticks": ""
            },
            "colorscale": [
             [
              0,
              "#0d0887"
             ],
             [
              0.1111111111111111,
              "#46039f"
             ],
             [
              0.2222222222222222,
              "#7201a8"
             ],
             [
              0.3333333333333333,
              "#9c179e"
             ],
             [
              0.4444444444444444,
              "#bd3786"
             ],
             [
              0.5555555555555556,
              "#d8576b"
             ],
             [
              0.6666666666666666,
              "#ed7953"
             ],
             [
              0.7777777777777778,
              "#fb9f3a"
             ],
             [
              0.8888888888888888,
              "#fdca26"
             ],
             [
              1,
              "#f0f921"
             ]
            ],
            "type": "histogram2d"
           }
          ],
          "histogram2dcontour": [
           {
            "colorbar": {
             "outlinewidth": 0,
             "ticks": ""
            },
            "colorscale": [
             [
              0,
              "#0d0887"
             ],
             [
              0.1111111111111111,
              "#46039f"
             ],
             [
              0.2222222222222222,
              "#7201a8"
             ],
             [
              0.3333333333333333,
              "#9c179e"
             ],
             [
              0.4444444444444444,
              "#bd3786"
             ],
             [
              0.5555555555555556,
              "#d8576b"
             ],
             [
              0.6666666666666666,
              "#ed7953"
             ],
             [
              0.7777777777777778,
              "#fb9f3a"
             ],
             [
              0.8888888888888888,
              "#fdca26"
             ],
             [
              1,
              "#f0f921"
             ]
            ],
            "type": "histogram2dcontour"
           }
          ],
          "mesh3d": [
           {
            "colorbar": {
             "outlinewidth": 0,
             "ticks": ""
            },
            "type": "mesh3d"
           }
          ],
          "parcoords": [
           {
            "line": {
             "colorbar": {
              "outlinewidth": 0,
              "ticks": ""
             }
            },
            "type": "parcoords"
           }
          ],
          "pie": [
           {
            "automargin": true,
            "type": "pie"
           }
          ],
          "scatter": [
           {
            "marker": {
             "colorbar": {
              "outlinewidth": 0,
              "ticks": ""
             }
            },
            "type": "scatter"
           }
          ],
          "scatter3d": [
           {
            "line": {
             "colorbar": {
              "outlinewidth": 0,
              "ticks": ""
             }
            },
            "marker": {
             "colorbar": {
              "outlinewidth": 0,
              "ticks": ""
             }
            },
            "type": "scatter3d"
           }
          ],
          "scattercarpet": [
           {
            "marker": {
             "colorbar": {
              "outlinewidth": 0,
              "ticks": ""
             }
            },
            "type": "scattercarpet"
           }
          ],
          "scattergeo": [
           {
            "marker": {
             "colorbar": {
              "outlinewidth": 0,
              "ticks": ""
             }
            },
            "type": "scattergeo"
           }
          ],
          "scattergl": [
           {
            "marker": {
             "colorbar": {
              "outlinewidth": 0,
              "ticks": ""
             }
            },
            "type": "scattergl"
           }
          ],
          "scattermapbox": [
           {
            "marker": {
             "colorbar": {
              "outlinewidth": 0,
              "ticks": ""
             }
            },
            "type": "scattermapbox"
           }
          ],
          "scatterpolar": [
           {
            "marker": {
             "colorbar": {
              "outlinewidth": 0,
              "ticks": ""
             }
            },
            "type": "scatterpolar"
           }
          ],
          "scatterpolargl": [
           {
            "marker": {
             "colorbar": {
              "outlinewidth": 0,
              "ticks": ""
             }
            },
            "type": "scatterpolargl"
           }
          ],
          "scatterternary": [
           {
            "marker": {
             "colorbar": {
              "outlinewidth": 0,
              "ticks": ""
             }
            },
            "type": "scatterternary"
           }
          ],
          "surface": [
           {
            "colorbar": {
             "outlinewidth": 0,
             "ticks": ""
            },
            "colorscale": [
             [
              0,
              "#0d0887"
             ],
             [
              0.1111111111111111,
              "#46039f"
             ],
             [
              0.2222222222222222,
              "#7201a8"
             ],
             [
              0.3333333333333333,
              "#9c179e"
             ],
             [
              0.4444444444444444,
              "#bd3786"
             ],
             [
              0.5555555555555556,
              "#d8576b"
             ],
             [
              0.6666666666666666,
              "#ed7953"
             ],
             [
              0.7777777777777778,
              "#fb9f3a"
             ],
             [
              0.8888888888888888,
              "#fdca26"
             ],
             [
              1,
              "#f0f921"
             ]
            ],
            "type": "surface"
           }
          ],
          "table": [
           {
            "cells": {
             "fill": {
              "color": "#EBF0F8"
             },
             "line": {
              "color": "white"
             }
            },
            "header": {
             "fill": {
              "color": "#C8D4E3"
             },
             "line": {
              "color": "white"
             }
            },
            "type": "table"
           }
          ]
         },
         "layout": {
          "annotationdefaults": {
           "arrowcolor": "#2a3f5f",
           "arrowhead": 0,
           "arrowwidth": 1
          },
          "coloraxis": {
           "colorbar": {
            "outlinewidth": 0,
            "ticks": ""
           }
          },
          "colorscale": {
           "diverging": [
            [
             0,
             "#8e0152"
            ],
            [
             0.1,
             "#c51b7d"
            ],
            [
             0.2,
             "#de77ae"
            ],
            [
             0.3,
             "#f1b6da"
            ],
            [
             0.4,
             "#fde0ef"
            ],
            [
             0.5,
             "#f7f7f7"
            ],
            [
             0.6,
             "#e6f5d0"
            ],
            [
             0.7,
             "#b8e186"
            ],
            [
             0.8,
             "#7fbc41"
            ],
            [
             0.9,
             "#4d9221"
            ],
            [
             1,
             "#276419"
            ]
           ],
           "sequential": [
            [
             0,
             "#0d0887"
            ],
            [
             0.1111111111111111,
             "#46039f"
            ],
            [
             0.2222222222222222,
             "#7201a8"
            ],
            [
             0.3333333333333333,
             "#9c179e"
            ],
            [
             0.4444444444444444,
             "#bd3786"
            ],
            [
             0.5555555555555556,
             "#d8576b"
            ],
            [
             0.6666666666666666,
             "#ed7953"
            ],
            [
             0.7777777777777778,
             "#fb9f3a"
            ],
            [
             0.8888888888888888,
             "#fdca26"
            ],
            [
             1,
             "#f0f921"
            ]
           ],
           "sequentialminus": [
            [
             0,
             "#0d0887"
            ],
            [
             0.1111111111111111,
             "#46039f"
            ],
            [
             0.2222222222222222,
             "#7201a8"
            ],
            [
             0.3333333333333333,
             "#9c179e"
            ],
            [
             0.4444444444444444,
             "#bd3786"
            ],
            [
             0.5555555555555556,
             "#d8576b"
            ],
            [
             0.6666666666666666,
             "#ed7953"
            ],
            [
             0.7777777777777778,
             "#fb9f3a"
            ],
            [
             0.8888888888888888,
             "#fdca26"
            ],
            [
             1,
             "#f0f921"
            ]
           ]
          },
          "colorway": [
           "#636efa",
           "#EF553B",
           "#00cc96",
           "#ab63fa",
           "#FFA15A",
           "#19d3f3",
           "#FF6692",
           "#B6E880",
           "#FF97FF",
           "#FECB52"
          ],
          "font": {
           "color": "#2a3f5f"
          },
          "geo": {
           "bgcolor": "white",
           "lakecolor": "white",
           "landcolor": "#E5ECF6",
           "showlakes": true,
           "showland": true,
           "subunitcolor": "white"
          },
          "hoverlabel": {
           "align": "left"
          },
          "hovermode": "closest",
          "mapbox": {
           "style": "light"
          },
          "paper_bgcolor": "white",
          "plot_bgcolor": "#E5ECF6",
          "polar": {
           "angularaxis": {
            "gridcolor": "white",
            "linecolor": "white",
            "ticks": ""
           },
           "bgcolor": "#E5ECF6",
           "radialaxis": {
            "gridcolor": "white",
            "linecolor": "white",
            "ticks": ""
           }
          },
          "scene": {
           "xaxis": {
            "backgroundcolor": "#E5ECF6",
            "gridcolor": "white",
            "gridwidth": 2,
            "linecolor": "white",
            "showbackground": true,
            "ticks": "",
            "zerolinecolor": "white"
           },
           "yaxis": {
            "backgroundcolor": "#E5ECF6",
            "gridcolor": "white",
            "gridwidth": 2,
            "linecolor": "white",
            "showbackground": true,
            "ticks": "",
            "zerolinecolor": "white"
           },
           "zaxis": {
            "backgroundcolor": "#E5ECF6",
            "gridcolor": "white",
            "gridwidth": 2,
            "linecolor": "white",
            "showbackground": true,
            "ticks": "",
            "zerolinecolor": "white"
           }
          },
          "shapedefaults": {
           "line": {
            "color": "#2a3f5f"
           }
          },
          "ternary": {
           "aaxis": {
            "gridcolor": "white",
            "linecolor": "white",
            "ticks": ""
           },
           "baxis": {
            "gridcolor": "white",
            "linecolor": "white",
            "ticks": ""
           },
           "bgcolor": "#E5ECF6",
           "caxis": {
            "gridcolor": "white",
            "linecolor": "white",
            "ticks": ""
           }
          },
          "title": {
           "x": 0.05
          },
          "xaxis": {
           "automargin": true,
           "gridcolor": "white",
           "linecolor": "white",
           "ticks": "",
           "title": {
            "standoff": 15
           },
           "zerolinecolor": "white",
           "zerolinewidth": 2
          },
          "yaxis": {
           "automargin": true,
           "gridcolor": "white",
           "linecolor": "white",
           "ticks": "",
           "title": {
            "standoff": 15
           },
           "zerolinecolor": "white",
           "zerolinewidth": 2
          }
         }
        },
        "title": {
         "font": {
          "color": "#4D5663"
         },
         "text": "Rushing on 1st & 10 When Down by <9"
        },
        "xaxis": {
         "gridcolor": "#E1E5ED",
         "showgrid": true,
         "tickfont": {
          "color": "#4D5663"
         },
         "title": {
          "font": {
           "color": "#4D5663"
          },
          "text": "Year"
         },
         "zerolinecolor": "#E1E5ED"
        },
        "yaxis": {
         "gridcolor": "#E1E5ED",
         "showgrid": true,
         "tickfont": {
          "color": "#4D5663"
         },
         "tickformat": ".0%",
         "title": {
          "font": {
           "color": "#4D5663"
          },
          "text": "Percentage"
         },
         "zerolinecolor": "#E1E5ED"
        }
       }
      },
      "text/html": [
       "<div>\n",
       "        \n",
       "        \n",
       "            <div id=\"4d567f62-3592-4f5f-8d27-5a436d134aa9\" class=\"plotly-graph-div\" style=\"height:525px; width:100%;\"></div>\n",
       "            <script type=\"text/javascript\">\n",
       "                require([\"plotly\"], function(Plotly) {\n",
       "                    window.PLOTLYENV=window.PLOTLYENV || {};\n",
       "                    window.PLOTLYENV.BASE_URL='https://plot.ly';\n",
       "                    \n",
       "                if (document.getElementById(\"4d567f62-3592-4f5f-8d27-5a436d134aa9\")) {\n",
       "                    Plotly.newPlot(\n",
       "                        '4d567f62-3592-4f5f-8d27-5a436d134aa9',\n",
       "                        [{\"line\": {\"color\": \"#f77329\", \"dash\": \"solid\", \"shape\": \"linear\", \"width\": 1.3}, \"marker\": {\"size\": 12, \"symbol\": \"triangle-up\"}, \"mode\": \"lines+markers\", \"name\": \"Illinois\", \"text\": \"\", \"type\": \"scatter\", \"x\": [2010, 2011, 2012, 2013, 2014, 2015, 2016, 2017, 2018, 2019], \"y\": [0.8208955223880597, 0.7391304347826086, 0.7837837837837838, 0.7272727272727273, 0.43478260869565216, 0.39436619718309857, 0.6086956521739131, 0.5394736842105263, 0.6111111111111112, 0.7555555555555555]}, {\"line\": {\"color\": \"#7D110C\", \"dash\": \"solid\", \"shape\": \"linear\", \"width\": 1.3}, \"marker\": {\"size\": 12, \"symbol\": \"triangle-up\"}, \"mode\": \"lines+markers\", \"name\": \"Indiana\", \"text\": \"\", \"type\": \"scatter\", \"x\": [2010, 2011, 2012, 2013, 2014, 2015, 2016, 2017, 2018, 2019], \"y\": [0.7204301075268817, 0.8181818181818182, 0.7021276595744681, 0.7058823529411765, 0.6444444444444445, 0.5882352941176471, 0.638095238095238, 0.38095238095238093, 0.5412844036697247, 0.3974358974358974]}, {\"line\": {\"color\": \"#000000\", \"dash\": \"solid\", \"shape\": \"linear\", \"width\": 1.3}, \"marker\": {\"size\": 12, \"symbol\": \"triangle-up\"}, \"mode\": \"lines+markers\", \"name\": \"Iowa\", \"text\": \"\", \"type\": \"scatter\", \"x\": [2010, 2011, 2012, 2013, 2014, 2015, 2016, 2017, 2018, 2019], \"y\": [0.7254901960784313, 0.7027027027027027, 0.7528089887640449, 0.7111111111111111, 0.4189189189189189, 0.7714285714285715, 0.6865671641791045, 0.5684210526315789, 0.5967741935483871, 0.4520547945205479]}, {\"line\": {\"color\": \"#D5002B\", \"dash\": \"solid\", \"shape\": \"linear\", \"width\": 1.3}, \"marker\": {\"size\": 12, \"symbol\": \"triangle-up\"}, \"mode\": \"lines+markers\", \"name\": \"Maryland\", \"text\": \"\", \"type\": \"scatter\", \"x\": [2010, 2011, 2012, 2013, 2014, 2015, 2016, 2017, 2018, 2019], \"y\": [\"\", \"\", \"\", \"\", 0.5121951219512195, 0.6301369863013698, 0.6511627906976745, 0.5111111111111111, 0.8, 0.5797101449275363]}, {\"line\": {\"color\": \"#00274c\", \"dash\": \"solid\", \"shape\": \"linear\", \"width\": 1.3}, \"marker\": {\"size\": 12, \"symbol\": \"triangle-up\"}, \"mode\": \"lines+markers\", \"name\": \"Michigan\", \"text\": \"\", \"type\": \"scatter\", \"x\": [2010, 2011, 2012, 2013, 2014, 2015, 2016, 2017, 2018, 2019], \"y\": [0.8292682926829268, 0.765625, 0.7627118644067796, 0.8035714285714286, 0.4507042253521127, 0.5161290322580645, 0.6756756756756757, 0.5, 0.6428571428571429, 0.5076923076923077]}, {\"line\": {\"color\": \"#18453B\", \"dash\": \"solid\", \"shape\": \"linear\", \"width\": 1.3}, \"marker\": {\"size\": 12, \"symbol\": \"triangle-up\"}, \"mode\": \"lines+markers\", \"name\": \"Michigan State\", \"text\": \"\", \"type\": \"scatter\", \"x\": [2010, 2011, 2012, 2013, 2014, 2015, 2016, 2017, 2018, 2019], \"y\": [0.8095238095238095, 0.8055555555555556, 0.7053571428571429, 0.7708333333333334, 0.5714285714285714, 0.6666666666666666, 0.6060606060606061, 0.515625, 0.45614035087719296, 0.49206349206349204]}, {\"line\": {\"color\": \"#7F011B\", \"dash\": \"solid\", \"shape\": \"linear\", \"width\": 1.3}, \"marker\": {\"size\": 12, \"symbol\": \"triangle-up\"}, \"mode\": \"lines+markers\", \"name\": \"Minnesota\", \"text\": \"\", \"type\": \"scatter\", \"x\": [2010, 2011, 2012, 2013, 2014, 2015, 2016, 2017, 2018, 2019], \"y\": [0.8235294117647058, 0.7916666666666666, 0.855072463768116, 0.8245614035087719, 0.75, 0.6504854368932039, 0.5384615384615384, 0.6229508196721312, 0.5151515151515151, 0.6122448979591837]}, {\"line\": {\"color\": \"#F20017\", \"dash\": \"solid\", \"shape\": \"linear\", \"width\": 1.3}, \"marker\": {\"size\": 12, \"symbol\": \"triangle-up\"}, \"mode\": \"lines+markers\", \"name\": \"Nebraska\", \"text\": \"\", \"type\": \"scatter\", \"x\": [2010, 2011, 2012, 2013, 2014, 2015, 2016, 2017, 2018, 2019], \"y\": [\"\", 0.8837209302325582, 0.8552631578947368, 0.8135593220338984, 0.5666666666666667, 0.5921052631578947, 0.7466666666666667, 0.6071428571428571, 0.5274725274725275, 0.5873015873015873]}, {\"line\": {\"color\": \"#372286\", \"dash\": \"solid\", \"shape\": \"linear\", \"width\": 1.3}, \"marker\": {\"size\": 12, \"symbol\": \"triangle-up\"}, \"mode\": \"lines+markers\", \"name\": \"Northwestern\", \"text\": \"\", \"type\": \"scatter\", \"x\": [2010, 2011, 2012, 2013, 2014, 2015, 2016, 2017, 2018, 2019], \"y\": [0.8292682926829268, 0.8421052631578947, 0.6078431372549019, 0.9272727272727272, 0.4175824175824176, 0.6538461538461539, 0.4634146341463415, 0.4222222222222222, 0.43478260869565216, 0.6666666666666666]}, {\"line\": {\"color\": \"#DE3121\", \"dash\": \"solid\", \"shape\": \"linear\", \"width\": 1.3}, \"marker\": {\"size\": 12, \"symbol\": \"triangle-up\"}, \"mode\": \"lines+markers\", \"name\": \"Ohio State\", \"text\": \"\", \"type\": \"scatter\", \"x\": [2010, 2011, 2012, 2013, 2014, 2015, 2016, 2017, 2018, 2019], \"y\": [0.7, 0.7857142857142857, 0.7413793103448276, 0.8103448275862069, 0.5151515151515151, 0.5757575757575758, 0.5384615384615384, 0.6304347826086957, 0.5204081632653061, 0.4666666666666667]}, {\"line\": {\"color\": \"#00265D\", \"dash\": \"solid\", \"shape\": \"linear\", \"width\": 1.3}, \"marker\": {\"size\": 12, \"symbol\": \"triangle-up\"}, \"mode\": \"lines+markers\", \"name\": \"Penn State\", \"text\": \"\", \"type\": \"scatter\", \"x\": [2010, 2011, 2012, 2013, 2014, 2015, 2016, 2017, 2018, 2019], \"y\": [0.7954545454545454, 0.6481481481481481, 0.75, 0.7936507936507936, 0.4186046511627907, 0.45614035087719296, 0.5540540540540541, 0.5652173913043478, 0.36507936507936506, 0.5434782608695652]}, {\"line\": {\"color\": \"#B89D29\", \"dash\": \"solid\", \"shape\": \"linear\", \"width\": 1.3}, \"marker\": {\"size\": 12, \"symbol\": \"triangle-up\"}, \"mode\": \"lines+markers\", \"name\": \"Purdue\", \"text\": \"\", \"type\": \"scatter\", \"x\": [2010, 2011, 2012, 2013, 2014, 2015, 2016, 2017, 2018, 2019], \"y\": [0.775, 0.7961165048543689, 0.6842105263157895, 0.8285714285714286, 0.5797101449275363, 0.5189873417721519, 0.46153846153846156, 0.36607142857142855, 0.345679012345679, 0.36470588235294116]}, {\"line\": {\"color\": \"#d21034\", \"dash\": \"solid\", \"shape\": \"linear\", \"width\": 1.3}, \"marker\": {\"size\": 12, \"symbol\": \"triangle-up\"}, \"mode\": \"lines+markers\", \"name\": \"Rutgers\", \"text\": \"\", \"type\": \"scatter\", \"x\": [2010, 2011, 2012, 2013, 2014, 2015, 2016, 2017, 2018, 2019], \"y\": [\"\", \"\", \"\", \"\", 0.631578947368421, 0.6842105263157895, 0.696969696969697, 0.6065573770491803, 0.6, 0.71875]}, {\"line\": {\"color\": \"#A00001\", \"dash\": \"solid\", \"shape\": \"linear\", \"width\": 1.3}, \"marker\": {\"size\": 12, \"symbol\": \"triangle-up\"}, \"mode\": \"lines+markers\", \"name\": \"Wisconsin\", \"text\": \"\", \"type\": \"scatter\", \"x\": [2010, 2011, 2012, 2013, 2014, 2015, 2016, 2017, 2018, 2019], \"y\": [0.8301886792452831, 0.7346938775510204, 0.8769230769230769, 0.7872340425531915, 0.5797101449275363, 0.5581395348837209, 0.7192982456140351, 0.6222222222222222, 0.8, 0.5789473684210527]}],\n",
       "                        {\"legend\": {\"bgcolor\": \"#F5F6F9\", \"font\": {\"color\": \"#4D5663\"}}, \"paper_bgcolor\": \"#F5F6F9\", \"plot_bgcolor\": \"#F5F6F9\", \"template\": {\"data\": {\"bar\": [{\"error_x\": {\"color\": \"#2a3f5f\"}, \"error_y\": {\"color\": \"#2a3f5f\"}, \"marker\": {\"line\": {\"color\": \"#E5ECF6\", \"width\": 0.5}}, \"type\": \"bar\"}], \"barpolar\": [{\"marker\": {\"line\": {\"color\": \"#E5ECF6\", \"width\": 0.5}}, \"type\": \"barpolar\"}], \"carpet\": [{\"aaxis\": {\"endlinecolor\": \"#2a3f5f\", \"gridcolor\": \"white\", \"linecolor\": \"white\", \"minorgridcolor\": \"white\", \"startlinecolor\": \"#2a3f5f\"}, \"baxis\": {\"endlinecolor\": \"#2a3f5f\", \"gridcolor\": \"white\", \"linecolor\": \"white\", \"minorgridcolor\": \"white\", \"startlinecolor\": \"#2a3f5f\"}, \"type\": \"carpet\"}], \"choropleth\": [{\"colorbar\": {\"outlinewidth\": 0, \"ticks\": \"\"}, \"type\": \"choropleth\"}], \"contour\": [{\"colorbar\": {\"outlinewidth\": 0, \"ticks\": \"\"}, \"colorscale\": [[0.0, \"#0d0887\"], [0.1111111111111111, \"#46039f\"], [0.2222222222222222, \"#7201a8\"], [0.3333333333333333, \"#9c179e\"], [0.4444444444444444, \"#bd3786\"], [0.5555555555555556, \"#d8576b\"], [0.6666666666666666, \"#ed7953\"], [0.7777777777777778, \"#fb9f3a\"], [0.8888888888888888, \"#fdca26\"], [1.0, \"#f0f921\"]], \"type\": \"contour\"}], \"contourcarpet\": [{\"colorbar\": {\"outlinewidth\": 0, \"ticks\": \"\"}, \"type\": \"contourcarpet\"}], \"heatmap\": [{\"colorbar\": {\"outlinewidth\": 0, \"ticks\": \"\"}, \"colorscale\": [[0.0, \"#0d0887\"], [0.1111111111111111, \"#46039f\"], [0.2222222222222222, \"#7201a8\"], [0.3333333333333333, \"#9c179e\"], [0.4444444444444444, \"#bd3786\"], [0.5555555555555556, \"#d8576b\"], [0.6666666666666666, \"#ed7953\"], [0.7777777777777778, \"#fb9f3a\"], [0.8888888888888888, \"#fdca26\"], [1.0, \"#f0f921\"]], \"type\": \"heatmap\"}], \"heatmapgl\": [{\"colorbar\": {\"outlinewidth\": 0, \"ticks\": \"\"}, \"colorscale\": [[0.0, \"#0d0887\"], [0.1111111111111111, \"#46039f\"], [0.2222222222222222, \"#7201a8\"], [0.3333333333333333, \"#9c179e\"], [0.4444444444444444, \"#bd3786\"], [0.5555555555555556, \"#d8576b\"], [0.6666666666666666, \"#ed7953\"], [0.7777777777777778, \"#fb9f3a\"], [0.8888888888888888, \"#fdca26\"], [1.0, \"#f0f921\"]], \"type\": \"heatmapgl\"}], \"histogram\": [{\"marker\": {\"colorbar\": {\"outlinewidth\": 0, \"ticks\": \"\"}}, \"type\": \"histogram\"}], \"histogram2d\": [{\"colorbar\": {\"outlinewidth\": 0, \"ticks\": \"\"}, \"colorscale\": [[0.0, \"#0d0887\"], [0.1111111111111111, \"#46039f\"], [0.2222222222222222, \"#7201a8\"], [0.3333333333333333, \"#9c179e\"], [0.4444444444444444, \"#bd3786\"], [0.5555555555555556, \"#d8576b\"], [0.6666666666666666, \"#ed7953\"], [0.7777777777777778, \"#fb9f3a\"], [0.8888888888888888, \"#fdca26\"], [1.0, \"#f0f921\"]], \"type\": \"histogram2d\"}], \"histogram2dcontour\": [{\"colorbar\": {\"outlinewidth\": 0, \"ticks\": \"\"}, \"colorscale\": [[0.0, \"#0d0887\"], [0.1111111111111111, \"#46039f\"], [0.2222222222222222, \"#7201a8\"], [0.3333333333333333, \"#9c179e\"], [0.4444444444444444, \"#bd3786\"], [0.5555555555555556, \"#d8576b\"], [0.6666666666666666, \"#ed7953\"], [0.7777777777777778, \"#fb9f3a\"], [0.8888888888888888, \"#fdca26\"], [1.0, \"#f0f921\"]], \"type\": \"histogram2dcontour\"}], \"mesh3d\": [{\"colorbar\": {\"outlinewidth\": 0, \"ticks\": \"\"}, \"type\": \"mesh3d\"}], \"parcoords\": [{\"line\": {\"colorbar\": {\"outlinewidth\": 0, \"ticks\": \"\"}}, \"type\": \"parcoords\"}], \"pie\": [{\"automargin\": true, \"type\": \"pie\"}], \"scatter\": [{\"marker\": {\"colorbar\": {\"outlinewidth\": 0, \"ticks\": \"\"}}, \"type\": \"scatter\"}], \"scatter3d\": [{\"line\": {\"colorbar\": {\"outlinewidth\": 0, \"ticks\": \"\"}}, \"marker\": {\"colorbar\": {\"outlinewidth\": 0, \"ticks\": \"\"}}, \"type\": \"scatter3d\"}], \"scattercarpet\": [{\"marker\": {\"colorbar\": {\"outlinewidth\": 0, \"ticks\": \"\"}}, \"type\": \"scattercarpet\"}], \"scattergeo\": [{\"marker\": {\"colorbar\": {\"outlinewidth\": 0, \"ticks\": \"\"}}, \"type\": \"scattergeo\"}], \"scattergl\": [{\"marker\": {\"colorbar\": {\"outlinewidth\": 0, \"ticks\": \"\"}}, \"type\": \"scattergl\"}], \"scattermapbox\": [{\"marker\": {\"colorbar\": {\"outlinewidth\": 0, \"ticks\": \"\"}}, \"type\": \"scattermapbox\"}], \"scatterpolar\": [{\"marker\": {\"colorbar\": {\"outlinewidth\": 0, \"ticks\": \"\"}}, \"type\": \"scatterpolar\"}], \"scatterpolargl\": [{\"marker\": {\"colorbar\": {\"outlinewidth\": 0, \"ticks\": \"\"}}, \"type\": \"scatterpolargl\"}], \"scatterternary\": [{\"marker\": {\"colorbar\": {\"outlinewidth\": 0, \"ticks\": \"\"}}, \"type\": \"scatterternary\"}], \"surface\": [{\"colorbar\": {\"outlinewidth\": 0, \"ticks\": \"\"}, \"colorscale\": [[0.0, \"#0d0887\"], [0.1111111111111111, \"#46039f\"], [0.2222222222222222, \"#7201a8\"], [0.3333333333333333, \"#9c179e\"], [0.4444444444444444, \"#bd3786\"], [0.5555555555555556, \"#d8576b\"], [0.6666666666666666, \"#ed7953\"], [0.7777777777777778, \"#fb9f3a\"], [0.8888888888888888, \"#fdca26\"], [1.0, \"#f0f921\"]], \"type\": \"surface\"}], \"table\": [{\"cells\": {\"fill\": {\"color\": \"#EBF0F8\"}, \"line\": {\"color\": \"white\"}}, \"header\": {\"fill\": {\"color\": \"#C8D4E3\"}, \"line\": {\"color\": \"white\"}}, \"type\": \"table\"}]}, \"layout\": {\"annotationdefaults\": {\"arrowcolor\": \"#2a3f5f\", \"arrowhead\": 0, \"arrowwidth\": 1}, \"coloraxis\": {\"colorbar\": {\"outlinewidth\": 0, \"ticks\": \"\"}}, \"colorscale\": {\"diverging\": [[0, \"#8e0152\"], [0.1, \"#c51b7d\"], [0.2, \"#de77ae\"], [0.3, \"#f1b6da\"], [0.4, \"#fde0ef\"], [0.5, \"#f7f7f7\"], [0.6, \"#e6f5d0\"], [0.7, \"#b8e186\"], [0.8, \"#7fbc41\"], [0.9, \"#4d9221\"], [1, \"#276419\"]], \"sequential\": [[0.0, \"#0d0887\"], [0.1111111111111111, \"#46039f\"], [0.2222222222222222, \"#7201a8\"], [0.3333333333333333, \"#9c179e\"], [0.4444444444444444, \"#bd3786\"], [0.5555555555555556, \"#d8576b\"], [0.6666666666666666, \"#ed7953\"], [0.7777777777777778, \"#fb9f3a\"], [0.8888888888888888, \"#fdca26\"], [1.0, \"#f0f921\"]], \"sequentialminus\": [[0.0, \"#0d0887\"], [0.1111111111111111, \"#46039f\"], [0.2222222222222222, \"#7201a8\"], [0.3333333333333333, \"#9c179e\"], [0.4444444444444444, \"#bd3786\"], [0.5555555555555556, \"#d8576b\"], [0.6666666666666666, \"#ed7953\"], [0.7777777777777778, \"#fb9f3a\"], [0.8888888888888888, \"#fdca26\"], [1.0, \"#f0f921\"]]}, \"colorway\": [\"#636efa\", \"#EF553B\", \"#00cc96\", \"#ab63fa\", \"#FFA15A\", \"#19d3f3\", \"#FF6692\", \"#B6E880\", \"#FF97FF\", \"#FECB52\"], \"font\": {\"color\": \"#2a3f5f\"}, \"geo\": {\"bgcolor\": \"white\", \"lakecolor\": \"white\", \"landcolor\": \"#E5ECF6\", \"showlakes\": true, \"showland\": true, \"subunitcolor\": \"white\"}, \"hoverlabel\": {\"align\": \"left\"}, \"hovermode\": \"closest\", \"mapbox\": {\"style\": \"light\"}, \"paper_bgcolor\": \"white\", \"plot_bgcolor\": \"#E5ECF6\", \"polar\": {\"angularaxis\": {\"gridcolor\": \"white\", \"linecolor\": \"white\", \"ticks\": \"\"}, \"bgcolor\": \"#E5ECF6\", \"radialaxis\": {\"gridcolor\": \"white\", \"linecolor\": \"white\", \"ticks\": \"\"}}, \"scene\": {\"xaxis\": {\"backgroundcolor\": \"#E5ECF6\", \"gridcolor\": \"white\", \"gridwidth\": 2, \"linecolor\": \"white\", \"showbackground\": true, \"ticks\": \"\", \"zerolinecolor\": \"white\"}, \"yaxis\": {\"backgroundcolor\": \"#E5ECF6\", \"gridcolor\": \"white\", \"gridwidth\": 2, \"linecolor\": \"white\", \"showbackground\": true, \"ticks\": \"\", \"zerolinecolor\": \"white\"}, \"zaxis\": {\"backgroundcolor\": \"#E5ECF6\", \"gridcolor\": \"white\", \"gridwidth\": 2, \"linecolor\": \"white\", \"showbackground\": true, \"ticks\": \"\", \"zerolinecolor\": \"white\"}}, \"shapedefaults\": {\"line\": {\"color\": \"#2a3f5f\"}}, \"ternary\": {\"aaxis\": {\"gridcolor\": \"white\", \"linecolor\": \"white\", \"ticks\": \"\"}, \"baxis\": {\"gridcolor\": \"white\", \"linecolor\": \"white\", \"ticks\": \"\"}, \"bgcolor\": \"#E5ECF6\", \"caxis\": {\"gridcolor\": \"white\", \"linecolor\": \"white\", \"ticks\": \"\"}}, \"title\": {\"x\": 0.05}, \"xaxis\": {\"automargin\": true, \"gridcolor\": \"white\", \"linecolor\": \"white\", \"ticks\": \"\", \"title\": {\"standoff\": 15}, \"zerolinecolor\": \"white\", \"zerolinewidth\": 2}, \"yaxis\": {\"automargin\": true, \"gridcolor\": \"white\", \"linecolor\": \"white\", \"ticks\": \"\", \"title\": {\"standoff\": 15}, \"zerolinecolor\": \"white\", \"zerolinewidth\": 2}}}, \"title\": {\"font\": {\"color\": \"#4D5663\"}, \"text\": \"Rushing on 1st & 10 When Down by <9\"}, \"xaxis\": {\"gridcolor\": \"#E1E5ED\", \"showgrid\": true, \"tickfont\": {\"color\": \"#4D5663\"}, \"title\": {\"font\": {\"color\": \"#4D5663\"}, \"text\": \"Year\"}, \"zerolinecolor\": \"#E1E5ED\"}, \"yaxis\": {\"gridcolor\": \"#E1E5ED\", \"showgrid\": true, \"tickfont\": {\"color\": \"#4D5663\"}, \"tickformat\": \".0%\", \"title\": {\"font\": {\"color\": \"#4D5663\"}, \"text\": \"Percentage\"}, \"zerolinecolor\": \"#E1E5ED\"}},\n",
       "                        {\"showLink\": true, \"linkText\": \"Export to plot.ly\", \"plotlyServerURL\": \"https://plot.ly\", \"responsive\": true}\n",
       "                    ).then(function(){\n",
       "                            \n",
       "var gd = document.getElementById('4d567f62-3592-4f5f-8d27-5a436d134aa9');\n",
       "var x = new MutationObserver(function (mutations, observer) {{\n",
       "        var display = window.getComputedStyle(gd).display;\n",
       "        if (!display || display === 'none') {{\n",
       "            console.log([gd, 'removed!']);\n",
       "            Plotly.purge(gd);\n",
       "            observer.disconnect();\n",
       "        }}\n",
       "}});\n",
       "\n",
       "// Listen for the removal of the full notebook cells\n",
       "var notebookContainer = gd.closest('#notebook-container');\n",
       "if (notebookContainer) {{\n",
       "    x.observe(notebookContainer, {childList: true});\n",
       "}}\n",
       "\n",
       "// Listen for the clearing of the current output cell\n",
       "var outputEl = gd.closest('.output');\n",
       "if (outputEl) {{\n",
       "    x.observe(outputEl, {childList: true});\n",
       "}}\n",
       "\n",
       "                        })\n",
       "                };\n",
       "                });\n",
       "            </script>\n",
       "        </div>"
      ]
     },
     "metadata": {},
     "output_type": "display_data"
    }
   ],
   "source": [
    "rush_perc_plot.iplot(kind = 'scatter',mode = 'lines+markers',symbol='triangle-up',color=conf_dict,yaxis_tickformat =\".0%\",\\\n",
    "                     title = 'Rushing on 1st & 10 When Down by <9', xaxis_title = 'Year', yaxis_title = 'Percentage')"
   ]
  }
 ],
 "metadata": {
  "kernelspec": {
   "display_name": "Python 3",
   "language": "python",
   "name": "python3"
  },
  "language_info": {
   "codemirror_mode": {
    "name": "ipython",
    "version": 3
   },
   "file_extension": ".py",
   "mimetype": "text/x-python",
   "name": "python",
   "nbconvert_exporter": "python",
   "pygments_lexer": "ipython3",
   "version": "3.7.4"
  }
 },
 "nbformat": 4,
 "nbformat_minor": 2
}
